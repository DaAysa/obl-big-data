{
 "cells": [
  {
   "cell_type": "code",
   "execution_count": 1,
   "id": "5cb8ae24-f598-4c78-a2f3-a2127a7ff5dd",
   "metadata": {},
   "outputs": [
    {
     "name": "stderr",
     "output_type": "stream",
     "text": [
      "Setting default log level to \"WARN\".\n",
      "To adjust logging level use sc.setLogLevel(newLevel). For SparkR, use setLogLevel(newLevel).\n"
     ]
    },
    {
     "name": "stdout",
     "output_type": "stream",
     "text": [
      "2024-11-12T23:43:19,062 WARN [Thread-4] org.apache.hadoop.util.NativeCodeLoader - Unable to load native-hadoop library for your platform... using builtin-java classes where applicable\n"
     ]
    }
   ],
   "source": [
    "from pyspark.sql import SparkSession\n",
    "\n",
    "from pyspark.sql.functions import *\n",
    "from pyspark.sql.types import *\n",
    "\n",
    "spark = SparkSession \\\n",
    "    .builder \\\n",
    "    .appName(\"extraccionDatos\") \\\n",
    "    .getOrCreate()"
   ]
  },
  {
   "cell_type": "code",
   "execution_count": 17,
   "id": "a60adc26-4d5d-46b6-9288-dd677ba47138",
   "metadata": {},
   "outputs": [],
   "source": [
    "df_crucero = spark.read.csv('../../obligatorio/lnd/cruceros', header=True, sep=',',inferSchema=True)"
   ]
  },
  {
   "cell_type": "code",
   "execution_count": 11,
   "id": "cbe4f6c8-d735-4c49-a38a-106d37c0b786",
   "metadata": {},
   "outputs": [
    {
     "name": "stderr",
     "output_type": "stream",
     "text": [
      "                                                                                \r"
     ]
    }
   ],
   "source": [
    "df_emisivo = spark.read.csv('../../obligatorio/lnd/emisivo', header=True, sep=',',inferSchema=True)"
   ]
  },
  {
   "cell_type": "code",
   "execution_count": 2,
   "id": "cdec1869-7872-444e-a29f-b426debf50a5",
   "metadata": {},
   "outputs": [
    {
     "name": "stderr",
     "output_type": "stream",
     "text": [
      "                                                                                \r"
     ]
    }
   ],
   "source": [
    "df_receptivo = spark.read.csv('../../obligatorio/lnd/receptivo', header=True, sep=',',inferSchema=True)"
   ]
  },
  {
   "cell_type": "code",
   "execution_count": 79,
   "id": "377a5e1f-384a-4b9d-972c-fbe6368f33f2",
   "metadata": {},
   "outputs": [],
   "source": [
    "df_paises = spark.read.csv('../../obligatorio/lnd/paises', header=True, sep=',',inferSchema=True)"
   ]
  },
  {
   "cell_type": "code",
   "execution_count": null,
   "id": "fee33c3a-e385-45b6-b28a-532a12dac008",
   "metadata": {},
   "outputs": [],
   "source": []
  },
  {
   "cell_type": "code",
   "execution_count": 80,
   "id": "06ee2acf-fc22-4171-afb5-fa46a2a6bd97",
   "metadata": {},
   "outputs": [
    {
     "name": "stdout",
     "output_type": "stream",
     "text": [
      "root\n",
      " |-- Pais: string (nullable = true)\n",
      " |-- IdPais: integer (nullable = true)\n",
      " |-- Continente: string (nullable = true)\n",
      " |-- PaisesIngles: string (nullable = true)\n",
      "\n"
     ]
    }
   ],
   "source": [
    "df_paises.printSchema()"
   ]
  },
  {
   "cell_type": "code",
   "execution_count": 5,
   "id": "58493cff-9d4b-458d-a355-0fa74a158494",
   "metadata": {},
   "outputs": [
    {
     "name": "stdout",
     "output_type": "stream",
     "text": [
      "root\n",
      " |-- IdCruceros: integer (nullable = true)\n",
      " |-- idNacionalidad: integer (nullable = true)\n",
      " |-- Pais: string (nullable = true)\n",
      " |-- Fecha: date (nullable = true)\n",
      " |-- idfecha: integer (nullable = true)\n",
      " |-- idPuerto: integer (nullable = true)\n",
      " |-- Puerto: string (nullable = true)\n",
      " |-- TotalPersonas: integer (nullable = true)\n",
      " |-- CantidadVisitas: integer (nullable = true)\n",
      " |-- GastoTotal: double (nullable = true)\n",
      " |-- GastoTours: double (nullable = true)\n",
      " |-- GastoAlimentacion: double (nullable = true)\n",
      " |-- GastoTransporte: double (nullable = true)\n",
      " |-- GastoShopping: double (nullable = true)\n",
      " |-- GastoOtros: double (nullable = true)\n",
      "\n"
     ]
    }
   ],
   "source": [
    "df_crucero.printSchema()"
   ]
  },
  {
   "cell_type": "code",
   "execution_count": 6,
   "id": "82d50d09-9cde-4f4a-a421-d61ea208af17",
   "metadata": {},
   "outputs": [
    {
     "name": "stdout",
     "output_type": "stream",
     "text": [
      "root\n",
      " |-- IdLugarSalida: integer (nullable = true)\n",
      " |-- Lugar Salida: string (nullable = true)\n",
      " |-- IdTranspSalidad: integer (nullable = true)\n",
      " |-- Transporte Internacional de Salida: string (nullable = true)\n",
      " |-- FechaSalida: date (nullable = true)\n",
      " |-- IdFecSalida: integer (nullable = true)\n",
      " |-- FechaEntrada: date (nullable = true)\n",
      " |-- IdFecEntrada: integer (nullable = true)\n",
      " |-- IdNacionalidad: integer (nullable = true)\n",
      " |-- Pais: string (nullable = true)\n",
      " |-- IdDeptoResidencia: integer (nullable = true)\n",
      " |-- Departamento: string (nullable = true)\n",
      " |-- IdMotivo: integer (nullable = true)\n",
      " |-- Motivo: string (nullable = true)\n",
      " |-- IdOcupacion: integer (nullable = true)\n",
      " |-- Ocupacion: string (nullable = true)\n",
      " |-- IdNivelEstudio: integer (nullable = true)\n",
      " |-- Estudio: string (nullable = true)\n",
      " |-- IdDestino: integer (nullable = true)\n",
      " |-- Destino: string (nullable = true)\n",
      " |-- IdAlojamiento: integer (nullable = true)\n",
      " |-- Alojamiento: string (nullable = true)\n",
      " |-- IdLugarIngreso: integer (nullable = true)\n",
      " |-- Lugar Ingreso: string (nullable = true)\n",
      " |-- IdTranspIngreso: integer (nullable = true)\n",
      " |-- Transporte Internacional de Ingreso: string (nullable = true)\n",
      " |-- IdTranspLocal: integer (nullable = true)\n",
      " |-- Trasporte Local: string (nullable = true)\n",
      " |-- Estadia: integer (nullable = true)\n",
      " |-- Gente: integer (nullable = true)\n",
      " |-- GastoTotal: double (nullable = true)\n",
      " |-- GastoAlojamiento: double (nullable = true)\n",
      " |-- GastoAlimentacion: double (nullable = true)\n",
      " |-- GastoTransporteInternac: double (nullable = true)\n",
      " |-- GatoTransporteLocal: double (nullable = true)\n",
      " |-- GastoCultural: double (nullable = true)\n",
      " |-- GastoTours: double (nullable = true)\n",
      " |-- GastoCompras: double (nullable = true)\n",
      " |-- GastoResto: double (nullable = true)\n",
      " |-- Coef: double (nullable = true)\n",
      " |-- CoefTot: double (nullable = true)\n",
      "\n"
     ]
    }
   ],
   "source": [
    "df_emisivo.printSchema()"
   ]
  },
  {
   "cell_type": "raw",
   "id": "51985b01-7a06-40ee-84a1-1efc48739a22",
   "metadata": {},
   "source": [
    "df_receptivo.printSchema()"
   ]
  },
  {
   "cell_type": "code",
   "execution_count": 44,
   "id": "55909e62-4fca-4e14-a751-19cb0952799d",
   "metadata": {},
   "outputs": [],
   "source": [
    "pais = df_receptivo.select(\"Pais\")\n",
    "# residencia = df_receptivo.select(\"Residencia\")\n",
    "# ingreso = df_receptivo.select(\"Lugar Ingreso\")\n",
    "# localidad = df_receptivo.select(\"Localidad\")\n",
    "# OLocalidad = df_receptivo.select(\"Otra Localidad\")\n",
    "# departamento = departamento = df_receptivo.select(\"Departamento\")\n",
    "# ODepartamento = df_receptivo.select(\"Otro Departamento\")\n",
    "# egreso = df_receptivo.select(\"Lugar Egreso\")\n",
    "# destino = df_receptivo.select(\"Destino\")\n",
    "\n",
    "unionReceptivo = pais\n",
    "# .union(localidad) \\\n",
    "# .union(OLocalidad).union(departamento).union(ODepartamento) \\\n",
    "# .union(egreso).union(destino)\n"
   ]
  },
  {
   "cell_type": "code",
   "execution_count": 45,
   "id": "cc450735-9934-403d-9df5-82f268bef97b",
   "metadata": {},
   "outputs": [],
   "source": [
    "# lugarSalida = df_emisivo.select(\"Lugar Salida\")\n",
    "pais = df_emisivo.select(\"Pais\")\n",
    "# departamento = df_emisivo.select(\"Departamento\")\n",
    "destino = df_emisivo.select(\"Destino\")\n",
    "# lugarIngreso = df_emisivo.select(\"Lugar Ingreso\")\n",
    "\n",
    "unionEmisivo = pais.union(destino)"
   ]
  },
  {
   "cell_type": "code",
   "execution_count": 46,
   "id": "572684ef-0de0-44e6-b602-474f1715be9d",
   "metadata": {},
   "outputs": [],
   "source": [
    "# puerto = df_crucero.select(\"Puerto\")\n",
    "pais = df_crucero.select(\"Pais\")\n",
    "\n",
    "unionCruceros = pais"
   ]
  },
  {
   "cell_type": "code",
   "execution_count": 30,
   "id": "4750049d-9083-4aa7-8e1e-697149ee59ce",
   "metadata": {},
   "outputs": [
    {
     "name": "stderr",
     "output_type": "stream",
     "text": [
      "                                                                                \r"
     ]
    }
   ],
   "source": [
    "unionReceptivo.write.option(\"header\", True).csv(\"../../obligatorio/unionReceptivo.csv\")"
   ]
  },
  {
   "cell_type": "code",
   "execution_count": 30,
   "id": "57ed831f-7e3f-4fb6-b57c-91a0f2618823",
   "metadata": {},
   "outputs": [
    {
     "name": "stderr",
     "output_type": "stream",
     "text": [
      "                                                                                \r"
     ]
    }
   ],
   "source": [
    "unionEmisivo.write.option(\"header\", True).csv(\"../../obligatorio/unionEmisivo.csv\")"
   ]
  },
  {
   "cell_type": "code",
   "execution_count": 30,
   "id": "002bfcde-582e-457d-9449-c32aa4ff0a66",
   "metadata": {},
   "outputs": [
    {
     "name": "stderr",
     "output_type": "stream",
     "text": [
      "                                                                                \r"
     ]
    }
   ],
   "source": [
    "unionCruceros.write.option(\"header\", True).csv(\"../../obligatorio/unionCruceros.csv\")"
   ]
  },
  {
   "cell_type": "code",
   "execution_count": 49,
   "id": "41c72ebc-d195-44ee-96dd-5f5a4d73cd46",
   "metadata": {},
   "outputs": [],
   "source": [
    "unionTotal = unionReceptivo.union(unionEmisivo).union(unionCruceros).distinct()"
   ]
  },
  {
   "cell_type": "code",
   "execution_count": 34,
   "id": "24191d15-5a17-4672-be3d-47f965048afb",
   "metadata": {},
   "outputs": [
    {
     "name": "stderr",
     "output_type": "stream",
     "text": [
      "                                                                                \r"
     ]
    }
   ],
   "source": [
    "unionTotal.write.option(\"header\", True).mode(\"overwrite\").csv(\"../../obligatorio/unionTotal.csv\")"
   ]
  },
  {
   "cell_type": "code",
   "execution_count": 82,
   "id": "04a35dde-f35d-4b59-875a-3e160b62c891",
   "metadata": {},
   "outputs": [
    {
     "name": "stdout",
     "output_type": "stream",
     "text": [
      "+--------------------+\n",
      "|                Pais|\n",
      "+--------------------+\n",
      "|              Africa|\n",
      "|    Africa u Oceania|\n",
      "|            Alemania|\n",
      "|           Argentina|\n",
      "|Asia del Este y P...|\n",
      "|     Asia Meridional|\n",
      "|             Bolivia|\n",
      "|              Brasil|\n",
      "|              Canada|\n",
      "|Centro y Norte Am...|\n",
      "|               Chile|\n",
      "|               China|\n",
      "|            Colombia|\n",
      "|                Cuba|\n",
      "|             Ecuador|\n",
      "|              EE.UU.|\n",
      "|              España|\n",
      "|              Europa|\n",
      "|             Francia|\n",
      "|        Gran Bretaña|\n",
      "+--------------------+\n",
      "only showing top 20 rows\n",
      "\n"
     ]
    }
   ],
   "source": [
    "df_paises.select(\"Pais\").show()"
   ]
  },
  {
   "cell_type": "code",
   "execution_count": null,
   "id": "24c0821a-8b2c-4a3d-9cea-a598678449ef",
   "metadata": {},
   "outputs": [],
   "source": []
  },
  {
   "cell_type": "code",
   "execution_count": null,
   "id": "3b4ff457-b435-4f9b-b4a6-76a3d219c85a",
   "metadata": {},
   "outputs": [],
   "source": []
  },
  {
   "cell_type": "code",
   "execution_count": null,
   "id": "33dd158a-7bd8-40df-8655-2ac534550db9",
   "metadata": {},
   "outputs": [],
   "source": []
  },
  {
   "cell_type": "code",
   "execution_count": null,
   "id": "85c015a6-7015-4282-ac72-85ce81cab731",
   "metadata": {},
   "outputs": [],
   "source": []
  },
  {
   "cell_type": "code",
   "execution_count": null,
   "id": "e9c42a5b-1ac3-42ca-b1cd-00a493dbcd76",
   "metadata": {},
   "outputs": [],
   "source": []
  },
  {
   "cell_type": "code",
   "execution_count": null,
   "id": "ef75d720-6c36-4c79-b999-9fd2177a6d13",
   "metadata": {},
   "outputs": [],
   "source": []
  },
  {
   "cell_type": "code",
   "execution_count": null,
   "id": "b41d77dc-269e-40cb-bc28-7eeaa6105020",
   "metadata": {},
   "outputs": [],
   "source": []
  }
 ],
 "metadata": {
  "kernelspec": {
   "display_name": "Python 3 (ipykernel)",
   "language": "python",
   "name": "python3"
  },
  "language_info": {
   "codemirror_mode": {
    "name": "ipython",
    "version": 3
   },
   "file_extension": ".py",
   "mimetype": "text/x-python",
   "name": "python",
   "nbconvert_exporter": "python",
   "pygments_lexer": "ipython3",
   "version": "3.8.8"
  }
 },
 "nbformat": 4,
 "nbformat_minor": 5
}
