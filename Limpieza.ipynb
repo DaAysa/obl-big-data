{
 "cells": [
  {
   "cell_type": "code",
   "execution_count": 1,
   "id": "425232c3-24f2-4df2-b3d1-907c2639e481",
   "metadata": {},
   "outputs": [
    {
     "name": "stderr",
     "output_type": "stream",
     "text": [
      "Setting default log level to \"WARN\".\n",
      "To adjust logging level use sc.setLogLevel(newLevel). For SparkR, use setLogLevel(newLevel).\n"
     ]
    },
    {
     "name": "stdout",
     "output_type": "stream",
     "text": [
      "2024-11-19T23:41:14,920 WARN [Thread-4] org.apache.hadoop.util.NativeCodeLoader - Unable to load native-hadoop library for your platform... using builtin-java classes where applicable\n"
     ]
    }
   ],
   "source": [
    "from pyspark.sql import SparkSession\n",
    "\n",
    "from pyspark.sql.functions import *\n",
    "from pyspark.sql.types import *\n",
    "\n",
    "spark = SparkSession \\\n",
    "    .builder \\\n",
    "    .appName(\"limpieza\") \\\n",
    "    .getOrCreate()"
   ]
  },
  {
   "cell_type": "markdown",
   "id": "99e510ae-5981-4456-8b54-1fab157212d8",
   "metadata": {},
   "source": [
    "# Receptivo\n",
    "Contiene los datos de ingreso al país"
   ]
  },
  {
   "cell_type": "code",
   "execution_count": 2,
   "id": "651bc567-cfa2-45f4-9aef-f824c8e1c3d3",
   "metadata": {},
   "outputs": [
    {
     "name": "stderr",
     "output_type": "stream",
     "text": [
      "                                                                                \r"
     ]
    }
   ],
   "source": [
    "df_receptivo = spark.read.csv('../../obligatorio/lnd/receptivo', header=True, sep=',',inferSchema=True)"
   ]
  },
  {
   "cell_type": "markdown",
   "id": "9718598a-b5dd-48ca-b1aa-ab4ba1d43eac",
   "metadata": {},
   "source": [
    "Asi podemos visualizar los tipos de datos y columnas"
   ]
  },
  {
   "cell_type": "code",
   "execution_count": 3,
   "id": "ee40472d-67fd-4a31-b3a8-a4a85bcb662a",
   "metadata": {},
   "outputs": [
    {
     "name": "stdout",
     "output_type": "stream",
     "text": [
      "root\n",
      " |-- IdIngresos: integer (nullable = true)\n",
      " |-- Lugar Ingreso: string (nullable = true)\n",
      " |-- IdTranspIngreso: integer (nullable = true)\n",
      " |-- Transporte Internacional de Ingreso: string (nullable = true)\n",
      " |-- FechaIngreso: date (nullable = true)\n",
      " |-- IdFecIng: integer (nullable = true)\n",
      " |-- FechaEgreso: date (nullable = true)\n",
      " |-- IdFecEgr: integer (nullable = true)\n",
      " |-- IdNacionalidad: integer (nullable = true)\n",
      " |-- Pais: string (nullable = true)\n",
      " |-- IdResidencia: integer (nullable = true)\n",
      " |-- Residencia: string (nullable = true)\n",
      " |-- IdMotivo: integer (nullable = true)\n",
      " |-- Motivo: string (nullable = true)\n",
      " |-- IdOcupacion: integer (nullable = true)\n",
      " |-- Ocupacion: string (nullable = true)\n",
      " |-- IsEstudio: integer (nullable = true)\n",
      " |-- Estudio: string (nullable = true)\n",
      " |-- IdDestinoLocalidad: integer (nullable = true)\n",
      " |-- Localidad: string (nullable = true)\n",
      " |-- IdDepartamentoDestino: integer (nullable = true)\n",
      " |-- Departamento: string (nullable = true)\n",
      " |-- IdOtroDepartamento: integer (nullable = true)\n",
      " |-- Otro Departamento: string (nullable = true)\n",
      " |-- IdOtraLocalidad: integer (nullable = true)\n",
      " |-- Otra Localidad: string (nullable = true)\n",
      " |-- IdAlojamiento: integer (nullable = true)\n",
      " |-- Alojamiento: string (nullable = true)\n",
      " |-- IdTranspLocal: integer (nullable = true)\n",
      " |-- TransporteLocal: string (nullable = true)\n",
      " |-- IdEgresos: integer (nullable = true)\n",
      " |-- Lugar Egreso: string (nullable = true)\n",
      " |-- IdTranspEgreso: integer (nullable = true)\n",
      " |-- Transporte Internacional de Egreso: string (nullable = true)\n",
      " |-- IdDestino: integer (nullable = true)\n",
      " |-- Destino: string (nullable = true)\n",
      " |-- Estadia: integer (nullable = true)\n",
      " |-- Gente: integer (nullable = true)\n",
      " |-- GastoTotal: double (nullable = true)\n",
      " |-- GastoAlojamiento: double (nullable = true)\n",
      " |-- GastoAlimentacion: double (nullable = true)\n",
      " |-- GastoTransporte: double (nullable = true)\n",
      " |-- GastoCultural: double (nullable = true)\n",
      " |-- GastoTours: double (nullable = true)\n",
      " |-- GastoCompras: double (nullable = true)\n",
      " |-- GastoOtros: double (nullable = true)\n",
      " |-- Coef: double (nullable = true)\n",
      " |-- CoefTot: double (nullable = true)\n",
      "\n"
     ]
    }
   ],
   "source": [
    "df_receptivo.printSchema()"
   ]
  },
  {
   "cell_type": "markdown",
   "id": "01ca8a4d-8090-4160-9d91-6d1f5af915f1",
   "metadata": {},
   "source": [
    "### Descripción de las Columnas\n",
    "\n",
    "- Lugar Ingreso es por donde ingresó y tiene su propio ID (IdIngresos).\n",
    "- Transporte Internacional de Ingreso es el medio por el cual ingresó y tiene su propio ID (IdTranspIngreso).\n",
    "- Fecha Ingreso corresponde a la fecha de ingreso con su ID (IdFecIng).\n",
    "- Fecha Egreso corresponde a la fecha de salida con su ID (IdFecEgr).\n",
    "- Pais es la nacionalidad de quien ingresó y tiene su propio ID (IdNacionalidad).\n",
    "- Residencia (lugar de residencia del visitante) con su ID (IdResidencia).\n",
    "- Motivo de ingreso y cuenta con su propio ID (IdMotivo).\n",
    "- Ocupacion corresponde a la profesión del turista y tiene un ID (IdOcupacion).\n",
    "- Estudio es el nivel de estudios del visitante, que tiene su propio ID (IsEstudio), mas adelante le vamos a corregir el nombre de ID para que quede correcto (IdEstudio).\n",
    "- Destino Localidad es el principal destino de la visita con su ID (IdDestinoLocalidad).\n",
    "- Departamento corresponde al departamento de destino principal con su ID (IdDepartamentoDestino).\n",
    "- Otro Departamento es un posible segundo destino y tiene su ID (IdOtroDepartamento).\n",
    "- Otra Localidad corresponde a una segunda localidad visitada con su ID (IdOtraLocalidad).\n",
    "- Alojamiento es el tipo de alojamiento utilizado con su ID (IdAlojamiento).\n",
    "- Transporte Local corresponde al transporte utilizado durante la estadía y tiene un ID (IdTranspLocal).\n",
    "- Lugar Egreso es por donde se egresó y cuenta con su ID (IdEgresos).\n",
    "- Transporte Internacional de Egreso corresponde al transporte utilizado para salir del país con su ID (IdTranspEgreso).\n",
    "- Destino es la zona de destino principal con su ID (IdDestino).\n",
    "- Estadia representa los días que permaneció en el país.\n",
    "- Gente es la cantidad de personas del grupo encuestado.\n",
    "- Gasto Total, Gasto Alojamiento, Gasto Alimentacion, Gasto Transporte, Gasto Cultural, Gasto Tours, Gasto Compras y Gasto Otros corresponde a todos los tipos de gastos posibles, expresado en dólares americanos.\n",
    "- Coef es el coeficiente de expansión del gasto.\n",
    "- CoefTot es el coeficiente de expansión de las personas."
   ]
  },
  {
   "cell_type": "code",
   "execution_count": 4,
   "id": "4a8ca434-b5bf-4c0d-897f-8d1df729b3c9",
   "metadata": {},
   "outputs": [
    {
     "name": "stdout",
     "output_type": "stream",
     "text": [
      "root\n",
      " |-- Lugar Ingreso: string (nullable = true)\n",
      " |-- Transporte Internacional de Ingreso: string (nullable = true)\n",
      " |-- FechaIngreso: date (nullable = true)\n",
      " |-- FechaEgreso: date (nullable = true)\n",
      " |-- Pais: string (nullable = true)\n",
      " |-- Residencia: string (nullable = true)\n",
      " |-- Motivo: string (nullable = true)\n",
      " |-- Ocupacion: string (nullable = true)\n",
      " |-- Estudio: string (nullable = true)\n",
      " |-- Localidad: string (nullable = true)\n",
      " |-- Departamento: string (nullable = true)\n",
      " |-- Otro Departamento: string (nullable = true)\n",
      " |-- Otra Localidad: string (nullable = true)\n",
      " |-- Alojamiento: string (nullable = true)\n",
      " |-- TransporteLocal: string (nullable = true)\n",
      " |-- Lugar Egreso: string (nullable = true)\n",
      " |-- Transporte Internacional de Egreso: string (nullable = true)\n",
      " |-- Destino: string (nullable = true)\n",
      " |-- Estadia: integer (nullable = true)\n",
      " |-- Gente: integer (nullable = true)\n",
      " |-- GastoTotal: double (nullable = true)\n",
      " |-- GastoAlojamiento: double (nullable = true)\n",
      " |-- GastoAlimentacion: double (nullable = true)\n",
      " |-- GastoTransporte: double (nullable = true)\n",
      " |-- GastoCultural: double (nullable = true)\n",
      " |-- GastoTours: double (nullable = true)\n",
      " |-- GastoCompras: double (nullable = true)\n",
      " |-- GastoOtros: double (nullable = true)\n",
      " |-- Coef: double (nullable = true)\n",
      " |-- CoefTot: double (nullable = true)\n",
      "\n"
     ]
    }
   ],
   "source": [
    "# Quitar columnas que no usamos\n",
    "\n",
    "df_receptivo = df_receptivo.drop(\n",
    "    \"IdIngresos\", \n",
    "    \"IdTranspIngreso\", \n",
    "    \"IdFecIng\", \n",
    "    \"IdFecEgr\", \n",
    "    \"IdNacionalidad\", \n",
    "    \"IdResidencia\", \n",
    "    \"IdMotivo\", \n",
    "    \"IdOcupacion\", \n",
    "    \"IsEstudio\", \n",
    "    \"IdDestinoLocalidad\", \n",
    "    \"IdDepartamentoDestino\",\n",
    "    \"IdOtroDepartamento\",\n",
    "    \"IdOtraLocalidad\",\n",
    "    \"IdAlojamiento\", \n",
    "    \"IdTranspLocal\", \n",
    "    \"IdEgresos\",\n",
    "    \"IdTranspEgreso\",\n",
    "    \"IdDestino\"\n",
    ");\n",
    "\n",
    "\n",
    "df_receptivo.printSchema()"
   ]
  },
  {
   "cell_type": "code",
   "execution_count": 5,
   "id": "7130d6c1-536a-47f2-a451-da8a420ea9f3",
   "metadata": {},
   "outputs": [],
   "source": [
    "from pyspark.sql import functions as F\n",
    "\n",
    "# Reemplazar tildes en la columna \"Lugar Ingreso\"\n",
    "df_receptivo = df_receptivo.withColumn(\n",
    "    \"Lugar Ingreso\",\n",
    "    F.regexp_replace(\"Lugar Ingreso\", \"Á\", \"A\")\n",
    ")\n",
    "\n",
    "df_receptivo = df_receptivo.withColumn(\n",
    "    \"Lugar Ingreso\",\n",
    "    F.regexp_replace(\"Lugar Ingreso\", \"É\", \"E\")\n",
    ")\n",
    "\n",
    "df_receptivo = df_receptivo.withColumn(\n",
    "    \"Lugar Ingreso\",\n",
    "    F.regexp_replace(\"Lugar Ingreso\", \"Í\", \"I\")\n",
    ")\n",
    "\n",
    "df_receptivo = df_receptivo.withColumn(\n",
    "    \"Lugar Ingreso\",\n",
    "    F.regexp_replace(\"Lugar Ingreso\", \"Ó\", \"O\")\n",
    ")\n",
    "\n",
    "df_receptivo = df_receptivo.withColumn(\n",
    "    \"Lugar Ingreso\",\n",
    "    F.regexp_replace(\"Lugar Ingreso\", \"Ú\", \"U\")\n",
    ")\n",
    "\n",
    "df_receptivo = df_receptivo.withColumn(\n",
    "    \"Lugar Ingreso\",\n",
    "    F.regexp_replace(\"Lugar Ingreso\", \"á\", \"a\")\n",
    ")\n",
    "\n",
    "df_receptivo = df_receptivo.withColumn(\n",
    "    \"Lugar Ingreso\",\n",
    "    F.regexp_replace(\"Lugar Ingreso\", \"é\", \"e\")\n",
    ")\n",
    "\n",
    "df_receptivo = df_receptivo.withColumn(\n",
    "    \"Lugar Ingreso\",\n",
    "    F.regexp_replace(\"Lugar Ingreso\", \"í\", \"i\")\n",
    ")\n",
    "\n",
    "df_receptivo = df_receptivo.withColumn(\n",
    "    \"Lugar Ingreso\",\n",
    "    F.regexp_replace(\"Lugar Ingreso\", \"ó\", \"o\")\n",
    ")\n",
    "\n",
    "df_receptivo = df_receptivo.withColumn(\n",
    "    \"Lugar Ingreso\",\n",
    "    F.regexp_replace(\"Lugar Ingreso\", \"ú\", \"u\")\n",
    ")\n",
    "\n",
    "# Reemplazar tildes en la columna \"Lugar Egreso\"\n",
    "df_receptivo = df_receptivo.withColumn(\n",
    "    \"Lugar Egreso\",\n",
    "    F.regexp_replace(\"Lugar Egreso\", \"Á\", \"A\")\n",
    ")\n",
    "\n",
    "df_receptivo = df_receptivo.withColumn(\n",
    "    \"Lugar Egreso\",\n",
    "    F.regexp_replace(\"Lugar Egreso\", \"É\", \"E\")\n",
    ")\n",
    "\n",
    "df_receptivo = df_receptivo.withColumn(\n",
    "    \"Lugar Egreso\",\n",
    "    F.regexp_replace(\"Lugar Egreso\", \"Í\", \"I\")\n",
    ")\n",
    "\n",
    "df_receptivo = df_receptivo.withColumn(\n",
    "    \"Lugar Egreso\",\n",
    "    F.regexp_replace(\"Lugar Egreso\", \"Ó\", \"O\")\n",
    ")\n",
    "\n",
    "df_receptivo = df_receptivo.withColumn(\n",
    "    \"Lugar Egreso\",\n",
    "    F.regexp_replace(\"Lugar Egreso\", \"Ú\", \"U\")\n",
    ")\n",
    "\n",
    "df_receptivo = df_receptivo.withColumn(\n",
    "    \"Lugar Egreso\",\n",
    "    F.regexp_replace(\"Lugar Egreso\", \"á\", \"a\")\n",
    ")\n",
    "\n",
    "df_receptivo = df_receptivo.withColumn(\n",
    "    \"Lugar Egreso\",\n",
    "    F.regexp_replace(\"Lugar Egreso\", \"é\", \"e\")\n",
    ")\n",
    "\n",
    "df_receptivo = df_receptivo.withColumn(\n",
    "    \"Lugar Egreso\",\n",
    "    F.regexp_replace(\"Lugar Egreso\", \"í\", \"i\")\n",
    ")\n",
    "\n",
    "df_receptivo = df_receptivo.withColumn(\n",
    "    \"Lugar Egreso\",\n",
    "    F.regexp_replace(\"Lugar Egreso\", \"ó\", \"o\")\n",
    ")\n",
    "\n",
    "df_receptivo = df_receptivo.withColumn(\n",
    "    \"Lugar Egreso\",\n",
    "    F.regexp_replace(\"Lugar Egreso\", \"ú\", \"u\")\n",
    ")\n",
    "\n"
   ]
  },
  {
   "cell_type": "code",
   "execution_count": 6,
   "id": "59f1b6d6-0ad0-4d1f-b720-841a4be6a10c",
   "metadata": {},
   "outputs": [],
   "source": [
    "# DUDA: Transito, No Corresponde (en departamento, otro Departamento y en Localidad) deberiamos dejarlo como null??\n",
    "# df_receptivo.select(\"Departamento\").orderBy(F.asc(\"Departamento\")).distinct().show(500,truncate=False)\n",
    "\n",
    "# DUDA como normalizar (hay ciudades y paises mezclados)\n",
    "# df_receptivo.groupBy(\"Residencia\").count().show(500,truncate=False)"
   ]
  },
  {
   "cell_type": "code",
   "execution_count": 7,
   "id": "ab3cd30d-a1d7-492c-8ce5-d3b72365f6c7",
   "metadata": {},
   "outputs": [],
   "source": [
    "# Agrupar los valores \"Otros\", \"Sin Datos\" y \"Desconocido / Sin Datos\" en una única categoría \"Otros\"\n",
    "df_receptivo = df_receptivo.withColumn(\n",
    "    \"Ocupacion\",\n",
    "    F.when(F.col(\"Ocupacion\").isin(\"Otros\", \"Sin Datos\", \"Desconocido / Sin Datos\"), \"Otros\")\n",
    "    .otherwise(F.col(\"Ocupacion\"))\n",
    ")\n",
    "\n",
    "# Agrupar los valores \"Otra Situacion Inactividad\", \"Desocupado\" en una única categoría \"Desocupado\"\n",
    "df_receptivo = df_receptivo.withColumn(\n",
    "    \"Ocupacion\",\n",
    "    F.when(F.col(\"Ocupacion\").isin(\"Otra situacion Inactividad\", \"Desocupado\"), \"Desocupado\")\n",
    "    .otherwise(F.col(\"Ocupacion\"))\n",
    ")\n"
   ]
  },
  {
   "cell_type": "code",
   "execution_count": 8,
   "id": "bcd33a3a-05d7-42c1-8490-cb3aad0c0320",
   "metadata": {},
   "outputs": [],
   "source": [
    "# Actualizar la columna \"Estudio\" para reemplazar los valores \"Sin Datos\", \"Otros\" y null por \"Otros\"\n",
    "df_receptivo = df_receptivo.withColumn(\n",
    "    \"Estudio\",\n",
    "    F.when(F.col(\"Estudio\").isin(\"Sin Datos\", \"Otros\"), \"Otros\")\n",
    "    .when(F.col(\"Estudio\").isNull(), \"Otros\")  # Maneja los valores null\n",
    "    .otherwise(F.col(\"Estudio\"))\n",
    ")"
   ]
  },
  {
   "cell_type": "code",
   "execution_count": 9,
   "id": "54532f52-24b4-4b4f-a10e-99c53d985b33",
   "metadata": {},
   "outputs": [],
   "source": [
    "# Actualizar la columna \"Localidad\"\n",
    "df_receptivo = df_receptivo.withColumn(\n",
    "    \"Localidad\",\n",
    "    F.when(F.col(\"Localidad\").isin(\"Sin Datos\", \"Otros\"), \"Otros\")\n",
    "    .when(F.col(\"Localidad\").isNull(), \"Otros\")  # Maneja los valores null\n",
    "    .when(F.col(\"Localidad\").isin(\"Jaugueriberry\"), \"Jaureguiberry\")\n",
    "    .otherwise(F.col(\"Localidad\"))\n",
    ")"
   ]
  },
  {
   "cell_type": "code",
   "execution_count": 10,
   "id": "9df400dd-4879-49c2-8310-edfe8c7b4869",
   "metadata": {},
   "outputs": [],
   "source": [
    "# Actualizar la columna \"Otra Localidad\"\n",
    "df_receptivo = df_receptivo.withColumn(\n",
    "    \"Otra Localidad\",\n",
    "    F.when(F.col(\"Otra Localidad\").isin(\"Jaugueriberry\"), \"Jaureguiberry\")\n",
    "    .otherwise(F.col(\"Otra Localidad\"))\n",
    ")"
   ]
  },
  {
   "cell_type": "code",
   "execution_count": 11,
   "id": "08a008aa-194f-4622-aed4-a4586fa8c9b2",
   "metadata": {},
   "outputs": [
    {
     "name": "stderr",
     "output_type": "stream",
     "text": [
      "[Stage 2:=============================>                             (1 + 1) / 2]\r"
     ]
    },
    {
     "name": "stdout",
     "output_type": "stream",
     "text": [
      "+--------------------------+-----+\n",
      "|Motivo                    |count|\n",
      "+--------------------------+-----+\n",
      "|Trabajo                   |6397 |\n",
      "|Salud                     |277  |\n",
      "|Visita familiares / amigos|15282|\n",
      "|Transito                  |3111 |\n",
      "|Religion                  |193  |\n",
      "|Compras                   |249  |\n",
      "|Estudios                  |292  |\n",
      "|Ocio / Vacaciones         |36248|\n",
      "|Segunda Residencia        |2161 |\n",
      "|Otros                     |1022 |\n",
      "|MICE                      |101  |\n",
      "+--------------------------+-----+\n",
      "\n"
     ]
    },
    {
     "name": "stderr",
     "output_type": "stream",
     "text": [
      "                                                                                \r"
     ]
    }
   ],
   "source": [
    "\n",
    "# Normalizar columna \"Motivo\" en df_receptivo\n",
    "df_receptivo = df_receptivo.withColumn(\n",
    "    \"Motivo\",\n",
    "    F.when(F.col(\"Motivo\") == \"Trabajo / Profesional\", \"Trabajo\")\n",
    "    .when(F.col(\"Motivo\") == \"Ocio y vacaciones\", \"Ocio / Vacaciones\")\n",
    "    .when(F.col(\"Motivo\") == \"Visita a familiares y amigos\", \"Visita familiares / amigos\")\n",
    "    .when(F.col(\"Motivo\") == \"Salud / wellness\", \"Salud\")\n",
    "    .when(F.col(\"Motivo\") == \"Religioso\", \"Religion\")\n",
    "    .otherwise(F.col(\"Motivo\"))  # Mantener el valor original si no hay coincidencia\n",
    ")\n",
    "\n",
    "# Mostrar los resultados normalizados\n",
    "df_receptivo.groupBy(\"Motivo\").count().show(500, truncate=False)"
   ]
  },
  {
   "cell_type": "code",
   "execution_count": 12,
   "id": "b424c24b-f071-4133-bd4c-d304c6d62f14",
   "metadata": {},
   "outputs": [],
   "source": [
    "# Corregir typo en Appart Hotel\n",
    "df_receptivo = df_receptivo.withColumn(\n",
    "    \"Alojamiento\",\n",
    "    F.when(F.col(\"Alojamiento\") == \"Appart Hotel\", \"Apart Hotel\")\n",
    "    .when(F.col(\"Alojamiento\") == \"Sin Datos\", \"Otros\")\n",
    "    .otherwise(F.col(\"Alojamiento\"))\n",
    ")"
   ]
  },
  {
   "cell_type": "code",
   "execution_count": 13,
   "id": "3083629c-31cc-487f-82cb-a88301c69d6d",
   "metadata": {},
   "outputs": [],
   "source": [
    "df_receptivo = df_receptivo.withColumn(\n",
    "    \"TransporteLocal\",\n",
    "    F.when(F.col(\"TransporteLocal\") == \"Sin Datos\", \"Otros\")\n",
    "    .otherwise(F.col(\"TransporteLocal\"))\n",
    ")"
   ]
  },
  {
   "cell_type": "code",
   "execution_count": 14,
   "id": "7aa0fc6b-212a-4c04-baf4-1b741ddf2aa2",
   "metadata": {},
   "outputs": [],
   "source": [
    "df_receptivo = df_receptivo.withColumn(\n",
    "    \"Lugar Egreso\",\n",
    "    F.when(F.col(\"Lugar Egreso\") == \"Sin Datos\", \"Otros\")\n",
    "    .otherwise(F.col(\"Lugar Egreso\"))\n",
    ")"
   ]
  },
  {
   "cell_type": "code",
   "execution_count": 15,
   "id": "554c5956-3501-40b9-97f1-ba35a2a962de",
   "metadata": {},
   "outputs": [],
   "source": [
    "df_receptivo = df_receptivo.withColumn(\n",
    "    \"Transporte Internacional de Egreso\",\n",
    "    F.when(F.col(\"Transporte Internacional de Egreso\") == \"Sin Datos\", \"Otros\")\n",
    "    .otherwise(F.col(\"Transporte Internacional de Egreso\"))\n",
    ")"
   ]
  },
  {
   "cell_type": "code",
   "execution_count": 16,
   "id": "1995169d-e77e-4ffb-adf0-4e6e31a1eab7",
   "metadata": {},
   "outputs": [],
   "source": [
    " # |-- GastoTotal: double (nullable = true)\n",
    " # |-- GastoAlojamiento: double (nullable = true)\n",
    " # |-- GastoAlimentacion: double (nullable = true)\n",
    " # |-- GastoTransporte: double (nullable = true)\n",
    " # |-- GastoCultural: double (nullable = true)\n",
    " # |-- GastoTours: double (nullable = true)\n",
    " # |-- GastoCompras: double (nullable = true)\n",
    " # |-- GastoOtros: double (nullable = true)\n",
    "\n",
    "# Crear una nueva columna que calcule la suma de los otros gastos\n",
    "df_receptivo = df_receptivo.withColumn(\n",
    "    \"SumaGastos\",\n",
    "    F.col(\"GastoAlojamiento\") + F.col(\"GastoAlimentacion\") + F.col(\"GastoTransporte\") + F.col(\"GastoCultural\") + F.col(\"GastoTours\") + F.col(\"GastoCompras\") + F.col(\"GastoOtros\")\n",
    ")\n",
    "\n",
    "# Cuando GastoTotal es mayor que SumaGastos, agregar la diferencia a GastoOtros\n",
    "df_receptivo = df_receptivo.withColumn(\n",
    "    \"GastoOtros\",\n",
    "    F.when(F.col(\"GastoTotal\") > F.col(\"SumaGastos\"), F.col(\"GastoOtros\") + (F.col(\"GastoTotal\") - F.col(\"SumaGastos\")))\n",
    "    .otherwise(F.col(\"GastoOtros\"))\n",
    ")\n",
    "\n",
    "# Cuando SumaGastos es mayor que GastoTotal, actualizar GastoTotal con el valor de SumaGastos\n",
    "df_receptivo = df_receptivo.withColumn(\n",
    "    \"GastoTotal\",\n",
    "    F.when(F.col(\"SumaGastos\") > F.col(\"GastoTotal\"), F.col(\"SumaGastos\"))\n",
    "    .otherwise(F.col(\"GastoTotal\"))\n",
    ")\n",
    "\n",
    "df_receptivo = df_receptivo.drop(\"SumaGastos\");"
   ]
  },
  {
   "cell_type": "markdown",
   "id": "5e832655-dd55-4de1-8ea6-436f8d6f4fb1",
   "metadata": {},
   "source": [
    "# Emisivo\n",
    "Contiene los datos de egreso al país"
   ]
  },
  {
   "cell_type": "code",
   "execution_count": 17,
   "id": "2456e041-0710-4626-9aa1-feffec92936c",
   "metadata": {},
   "outputs": [
    {
     "name": "stderr",
     "output_type": "stream",
     "text": [
      "                                                                                \r"
     ]
    }
   ],
   "source": [
    "df_emisivo = spark.read.csv('../../obligatorio/lnd/emisivo', header=True, sep=',',inferSchema=True)"
   ]
  },
  {
   "cell_type": "markdown",
   "id": "d156f37f-6f32-4076-aaf9-1531d20d997d",
   "metadata": {},
   "source": [
    "Asi podemos visualizar los tipos de datos y columnas"
   ]
  },
  {
   "cell_type": "code",
   "execution_count": 18,
   "id": "9ff4a535-d08b-4cf5-9b76-238105464b6a",
   "metadata": {},
   "outputs": [
    {
     "name": "stdout",
     "output_type": "stream",
     "text": [
      "root\n",
      " |-- IdLugarSalida: integer (nullable = true)\n",
      " |-- Lugar Salida: string (nullable = true)\n",
      " |-- IdTranspSalidad: integer (nullable = true)\n",
      " |-- Transporte Internacional de Salida: string (nullable = true)\n",
      " |-- FechaSalida: date (nullable = true)\n",
      " |-- IdFecSalida: integer (nullable = true)\n",
      " |-- FechaEntrada: date (nullable = true)\n",
      " |-- IdFecEntrada: integer (nullable = true)\n",
      " |-- IdNacionalidad: integer (nullable = true)\n",
      " |-- Pais: string (nullable = true)\n",
      " |-- IdDeptoResidencia: integer (nullable = true)\n",
      " |-- Departamento: string (nullable = true)\n",
      " |-- IdMotivo: integer (nullable = true)\n",
      " |-- Motivo: string (nullable = true)\n",
      " |-- IdOcupacion: integer (nullable = true)\n",
      " |-- Ocupacion: string (nullable = true)\n",
      " |-- IdNivelEstudio: integer (nullable = true)\n",
      " |-- Estudio: string (nullable = true)\n",
      " |-- IdDestino: integer (nullable = true)\n",
      " |-- Destino: string (nullable = true)\n",
      " |-- IdAlojamiento: integer (nullable = true)\n",
      " |-- Alojamiento: string (nullable = true)\n",
      " |-- IdLugarIngreso: integer (nullable = true)\n",
      " |-- Lugar Ingreso: string (nullable = true)\n",
      " |-- IdTranspIngreso: integer (nullable = true)\n",
      " |-- Transporte Internacional de Ingreso: string (nullable = true)\n",
      " |-- IdTranspLocal: integer (nullable = true)\n",
      " |-- Trasporte Local: string (nullable = true)\n",
      " |-- Estadia: integer (nullable = true)\n",
      " |-- Gente: integer (nullable = true)\n",
      " |-- GastoTotal: double (nullable = true)\n",
      " |-- GastoAlojamiento: double (nullable = true)\n",
      " |-- GastoAlimentacion: double (nullable = true)\n",
      " |-- GastoTransporteInternac: double (nullable = true)\n",
      " |-- GatoTransporteLocal: double (nullable = true)\n",
      " |-- GastoCultural: double (nullable = true)\n",
      " |-- GastoTours: double (nullable = true)\n",
      " |-- GastoCompras: double (nullable = true)\n",
      " |-- GastoResto: double (nullable = true)\n",
      " |-- Coef: double (nullable = true)\n",
      " |-- CoefTot: double (nullable = true)\n",
      "\n"
     ]
    }
   ],
   "source": [
    "df_emisivo.printSchema()"
   ]
  },
  {
   "cell_type": "markdown",
   "id": "058e2871-75c3-4c84-b6e8-2aec704bb095",
   "metadata": {},
   "source": [
    "### Descripción de las Columnas\n",
    "\n",
    "- Lugar Salida es el lugar y tiene su propio ID (IdLugarSalida).\n",
    "- Transporte Internacional de Salida es el medio de transporte internacional utilizado para la salida, con su propio ID (IdTranspSalidad).\n",
    "- Fecha Salida del viaje, con su propio ID (IdFecSalida).\n",
    "- Fecha Entrada al país, con su propio ID (IdFecEntrada).\n",
    "- Nacionalidad junto con el código que representa la nacionalidad del turista (IdNacionalidad).\n",
    "- País de destino del viaje.\n",
    "- Departamento Residencia con su propio ID (IdDeptoResidencia).\n",
    "- Motivo de ingreso al país, con su propio ID (IdMotivo).\n",
    "- Ocupación (o profesión) del turista, con su propio ID (IdOcupacion).\n",
    "- Estudio es el nivel de estudio del turista, con su propio ID (IdNivelEstudio).\n",
    "- Destino dentro del país con su propio ID (IdDestino).\n",
    "- Alojamiento es el tipo de alojamiento utilizado, con su propio ID (IdAlojamiento).\n",
    "- Lugar Ingreso es el lugar por donde se ingresó al país, con su propio ID (IdLugarIngreso).\n",
    "- Transporte Internacional de Ingreso es el medio de transporte internacional utilizado para el ingreso, con su propio ID (IdTranspIngreso).\n",
    "- Transporte Local es el medio de transporte local utilizado, con su propio ID (IdTranspLocal).\n",
    "- Estadía es la cantidad de días de estadía.\n",
    "- Gente es el número de integrantes del grupo encuestado.\n",
    "- Gasto Total, Gasto Alojamiento, Gasto Alimentación, Gasto Transporte Internacional, Gasto Transporte Local, Gasto Cultural, Gasto Tours, Gasto Compras y Gasto Resto se refieren a los distintos tipos de gastos realizados, medido en dólares americanos corrientes.\n",
    "- Coef es el Coeficiente Expansión Gasto.\n",
    "- CoefTot es el Coeficiente Expansión Personas."
   ]
  },
  {
   "cell_type": "code",
   "execution_count": 19,
   "id": "9feded33-acba-411e-a270-973639508c3f",
   "metadata": {},
   "outputs": [],
   "source": [
    "# Quitar columnas que no usamos\n",
    "df_emisivo = df_emisivo.drop(\"IdLugarSalida\", \"IdTranspSalidad\", \"IdFecSalida\", \"IdFecEntrada\", \"IdNacionalidad\", \"IdDeptoResidencia\", \"IdMotivo\", \"IdOcupacion\", \"IdNivelEstudio\", \"IdDestino\", \"IdAlojamiento\", \"IdLugarIngreso\", \"IdTranspIngreso\", \"IdTranspLocal\");"
   ]
  },
  {
   "cell_type": "code",
   "execution_count": 20,
   "id": "bf39373e-9ae5-4f70-95c4-626211a5dc42",
   "metadata": {},
   "outputs": [
    {
     "name": "stdout",
     "output_type": "stream",
     "text": [
      "root\n",
      " |-- Lugar Salida: string (nullable = true)\n",
      " |-- Transporte Internacional de Salida: string (nullable = true)\n",
      " |-- FechaSalida: date (nullable = true)\n",
      " |-- FechaEntrada: date (nullable = true)\n",
      " |-- Pais: string (nullable = true)\n",
      " |-- Departamento: string (nullable = true)\n",
      " |-- Motivo: string (nullable = true)\n",
      " |-- Ocupacion: string (nullable = true)\n",
      " |-- Estudio: string (nullable = true)\n",
      " |-- Destino: string (nullable = true)\n",
      " |-- Alojamiento: string (nullable = true)\n",
      " |-- Lugar Ingreso: string (nullable = true)\n",
      " |-- Transporte Internacional de Ingreso: string (nullable = true)\n",
      " |-- Trasporte Local: string (nullable = true)\n",
      " |-- Estadia: integer (nullable = true)\n",
      " |-- Gente: integer (nullable = true)\n",
      " |-- GastoTotal: double (nullable = true)\n",
      " |-- GastoAlojamiento: double (nullable = true)\n",
      " |-- GastoAlimentacion: double (nullable = true)\n",
      " |-- GastoTransporteInternac: double (nullable = true)\n",
      " |-- GatoTransporteLocal: double (nullable = true)\n",
      " |-- GastoCultural: double (nullable = true)\n",
      " |-- GastoTours: double (nullable = true)\n",
      " |-- GastoCompras: double (nullable = true)\n",
      " |-- GastoResto: double (nullable = true)\n",
      " |-- Coef: double (nullable = true)\n",
      " |-- CoefTot: double (nullable = true)\n",
      "\n"
     ]
    }
   ],
   "source": [
    "df_emisivo.printSchema()"
   ]
  },
  {
   "cell_type": "code",
   "execution_count": 21,
   "id": "17d0e0ea-46b5-4be8-84de-7dd271c84985",
   "metadata": {},
   "outputs": [],
   "source": [
    "test = df_emisivo.groupBy(\"Transporte Internacional de Salida\").count()\n"
   ]
  },
  {
   "cell_type": "code",
   "execution_count": 22,
   "id": "07889c35-a8c5-422a-9efe-4d1aa8cac5c8",
   "metadata": {},
   "outputs": [
    {
     "name": "stdout",
     "output_type": "stream",
     "text": [
      "+----------------------------------+-----+\n",
      "|Transporte Internacional de Salida|count|\n",
      "+----------------------------------+-----+\n",
      "|                             Aereo| 6343|\n",
      "|                   Terrestre Otros|   60|\n",
      "|                    Terrestre Auto|11805|\n",
      "|                Maritimo - Fluvial| 6534|\n",
      "|                             Otros|   39|\n",
      "|                     Terrestre Bus| 3283|\n",
      "+----------------------------------+-----+\n",
      "\n"
     ]
    }
   ],
   "source": [
    "test.show()\n",
    "\n",
    "# DUDA: Podriamos normalizar Aereo, Terrestre, Marítimo o sería perder datos? "
   ]
  },
  {
   "cell_type": "code",
   "execution_count": 23,
   "id": "ba44544b-f84c-4605-9008-aae405a31f07",
   "metadata": {},
   "outputs": [],
   "source": [
    "# Corregir typo en San Jose\n",
    "df_emisivo = df_emisivo.withColumn(\n",
    "    \"departamento\",\n",
    "    F.when(F.col(\"departamento\") == \"Saqn Jose\", \"San Jose\")\n",
    "    .otherwise(F.col(\"departamento\"))\n",
    ")"
   ]
  },
  {
   "cell_type": "code",
   "execution_count": 24,
   "id": "369a7502-288c-49b4-903a-7e0729b9e732",
   "metadata": {},
   "outputs": [
    {
     "name": "stdout",
     "output_type": "stream",
     "text": [
      "+--------------------+-----+\n",
      "|              Motivo|count|\n",
      "+--------------------+-----+\n",
      "| Trabajo / Profesion| 3117|\n",
      "|Visita familiares...| 9117|\n",
      "|Trabajo remunerad...|   19|\n",
      "|             Compras| 1036|\n",
      "|            Estudios|  249|\n",
      "|           Deportivo|  140|\n",
      "|Ocio, Recreo, Vac...|13763|\n",
      "|   Tratamiento Salud|  244|\n",
      "|Religion y Peregr...|  168|\n",
      "|               Otros|  201|\n",
      "|                MICE|   10|\n",
      "+--------------------+-----+\n",
      "\n"
     ]
    }
   ],
   "source": [
    "df_emisivo.groupBy(\"Motivo\").count().show()\n",
    "\n",
    "# DUDA - MICE podríamos unirlo a Trabajo / Profesión es turismo relacionado a conferencias, exhibiciones, etc.\n"
   ]
  },
  {
   "cell_type": "code",
   "execution_count": 25,
   "id": "d75be00a-7565-41fc-8a07-f2a5ddfafc9b",
   "metadata": {},
   "outputs": [],
   "source": [
    "# Agrupar los valores \"Otros\", \"Sin Datos\" y \"Desconocido / Sin Datos\" en una única categoría \"Otros\"\n",
    "df_emisivo = df_emisivo.withColumn(\n",
    "    \"Ocupacion\",\n",
    "    F.when(F.col(\"Ocupacion\").isin(\"Otros\", \"Sin Datos\", \"Desconocido / Sin Datos\"), \"Otros\")\n",
    "    .otherwise(F.col(\"Ocupacion\"))\n",
    ")\n",
    "\n",
    "# Agrupar los valores \"Desocupado\", \"Otra situacion Inactividad\" en una única categoría \"Desocupado\"\n",
    "df_emisivo = df_emisivo.withColumn(\n",
    "    \"Ocupacion\",\n",
    "    F.when(F.col(\"Ocupacion\").isin(\"Desocupado\", \"Otra situacion Inactividad\"), \"Otros\")\n",
    "    .otherwise(F.col(\"Ocupacion\"))\n",
    ")"
   ]
  },
  {
   "cell_type": "code",
   "execution_count": 26,
   "id": "f11df05c-68d6-44cf-b99f-989f042b0442",
   "metadata": {},
   "outputs": [],
   "source": [
    "# Actualizar la columna \"Estudio\" para reemplazar los valores \"Sin Datos\", \"Otros\" y null por \"Otros\"\n",
    "df_emisivo = df_emisivo.withColumn(\n",
    "    \"Estudio\",\n",
    "    F.when(F.col(\"Estudio\").isin(\"Sin Datos\", \"Otros\"), \"Otros\")\n",
    "    .when(F.col(\"Estudio\").isNull(), \"Otros\")  # Maneja los valores null\n",
    "    .otherwise(F.col(\"Estudio\"))\n",
    ")"
   ]
  },
  {
   "cell_type": "code",
   "execution_count": 27,
   "id": "32dc67ef-3b5c-43ef-b77f-f5f920ecb142",
   "metadata": {},
   "outputs": [],
   "source": [
    "# Actualizar la columna \"Destino\" para reemplazar los valores \"Sin Datos\" y \"Otros\" por \"Otros\"\n",
    "df_emisivo = df_emisivo.withColumn(\n",
    "    \"Destino\",\n",
    "    F.when(F.col(\"Destino\").isin(\"Sin Datos\", \"Otros\"), \"Otros\")\n",
    "    .otherwise(F.col(\"Destino\"))\n",
    ")"
   ]
  },
  {
   "cell_type": "code",
   "execution_count": 28,
   "id": "17ee577f-8938-4c8b-bf05-d51add42198b",
   "metadata": {},
   "outputs": [],
   "source": [
    "# Actualizar la columna \"Alojamiento\" para reemplazar los valores \"Sin Datos\" y \"Otros\" por \"Otros\"\n",
    "df_emisivo = df_emisivo.withColumn(\n",
    "    \"Alojamiento\",\n",
    "    F.when(F.col(\"Alojamiento\").isin(\"Sin Datos\", \"Otros\"), \"Otros\")\n",
    "    .otherwise(F.col(\"Alojamiento\"))\n",
    ")"
   ]
  },
  {
   "cell_type": "code",
   "execution_count": 29,
   "id": "1d41c48d-49f0-42a3-9023-d4d473f44c07",
   "metadata": {},
   "outputs": [],
   "source": [
    "# Corregir typo en Appart Hotel\n",
    "df_emisivo = df_emisivo.withColumn(\n",
    "    \"Alojamiento\",\n",
    "    F.when(F.col(\"Alojamiento\") == \"Appart Hotel\", \"Apart Hotel\")\n",
    "    .otherwise(F.col(\"Alojamiento\"))\n",
    ")"
   ]
  },
  {
   "cell_type": "code",
   "execution_count": 30,
   "id": "26861e73-0806-4ab1-8f4c-b19158c34209",
   "metadata": {},
   "outputs": [],
   "source": [
    "# Actualizar la columna \"Trasporte Local\" para reemplazar los valores \"Sin Datos\" y \"Otros\" por \"Otros\"\n",
    "df_emisivo = df_emisivo.withColumn(\n",
    "    \"Trasporte Local\",\n",
    "    F.when(F.col(\"Trasporte Local\").isin(\"Sin Datos\", \"Otros\"), \"Otros\")\n",
    "    .otherwise(F.col(\"Trasporte Local\"))\n",
    ")"
   ]
  },
  {
   "cell_type": "code",
   "execution_count": 31,
   "id": "22197cf4-babf-42a7-ae63-363e346db2c9",
   "metadata": {},
   "outputs": [],
   "source": [
    "df_emisivo = df_emisivo.withColumnRenamed(\"GastoResto\", \"GastoOtros\")\n",
    "df_emisivo = df_emisivo.withColumnRenamed(\"GatoTransporteLocal\", \"GastoTransporteLocal\")\n",
    "\n",
    "# Asegurarnos de que la suma de todos los gastos y GastoTotal se correspondan\n",
    "\n",
    "# Crear una nueva columna que calcule la suma de los otros gastos\n",
    "df_emisivo = df_emisivo.withColumn(\n",
    "    \"SumaGastos\",\n",
    "    F.col(\"GastoAlojamiento\") + F.col(\"GastoAlimentacion\") + F.col(\"GastoTransporteInternac\") + F.col(\"GastoTransporteLocal\") + F.col(\"GastoCultural\") + F.col(\"GastoTours\") + F.col(\"GastoCompras\") + F.col(\"GastoOtros\")\n",
    ")\n",
    "\n",
    "# Cuando GastoTotal es mayor que SumaGastos, agregar la diferencia a GastoOtros\n",
    "df_emisivo = df_emisivo.withColumn(\n",
    "    \"GastoOtros\",\n",
    "    F.when(F.col(\"GastoTotal\") > F.col(\"SumaGastos\"), F.col(\"GastoOtros\") + (F.col(\"GastoTotal\") - F.col(\"SumaGastos\")))\n",
    "    .otherwise(F.col(\"GastoOtros\"))\n",
    ")\n",
    "\n",
    "# Cuando SumaGastos es mayor que GastoTotal, actualizar GastoTotal con el valor de SumaGastos\n",
    "df_emisivo = df_emisivo.withColumn(\n",
    "    \"GastoTotal\",\n",
    "    F.when(F.col(\"SumaGastos\") > F.col(\"GastoTotal\"), F.col(\"SumaGastos\"))\n",
    "    .otherwise(F.col(\"GastoTotal\"))\n",
    ")\n",
    "\n",
    "df_emisivo = df_emisivo.drop(\"SumaGastos\");\n"
   ]
  },
  {
   "cell_type": "code",
   "execution_count": 32,
   "id": "de5f35b0-7b67-4331-bf86-29afa46cfe99",
   "metadata": {},
   "outputs": [
    {
     "name": "stdout",
     "output_type": "stream",
     "text": [
      "+------+-------+\n",
      "|  Coef|CoefTot|\n",
      "+------+-------+\n",
      "| 89.61| 448.05|\n",
      "| 96.18| 480.88|\n",
      "|129.04| 258.09|\n",
      "|129.04| 387.13|\n",
      "| 89.61| 448.05|\n",
      "| 96.18| 480.88|\n",
      "|128.81| 386.44|\n",
      "| 96.18| 384.71|\n",
      "| 96.18| 384.71|\n",
      "| 89.61| 179.22|\n",
      "| 96.18| 288.53|\n",
      "|128.81| 257.63|\n",
      "|196.13| 392.26|\n",
      "|127.77| 255.55|\n",
      "|196.13| 588.39|\n",
      "| 96.18| 192.35|\n",
      "|273.99| 547.99|\n",
      "|273.99|1095.97|\n",
      "|273.99| 273.99|\n",
      "|128.81| 257.63|\n",
      "+------+-------+\n",
      "only showing top 20 rows\n",
      "\n"
     ]
    }
   ],
   "source": [
    "df_emisivo.select(\"Coef\", \"CoefTot\").show() # DUDA: Que hacemos con estas columnas las podemos borrar porque no entendemos que significan"
   ]
  },
  {
   "cell_type": "code",
   "execution_count": 33,
   "id": "7e147e50-109f-48aa-beb9-1fe84c7d8674",
   "metadata": {},
   "outputs": [],
   "source": [
    "# Reemplazar tildes en la columna \"Lugar Salida\"\n",
    "df_emisivo = df_emisivo.withColumn(\n",
    "    \"Lugar Salida\",\n",
    "    F.regexp_replace(\"Lugar Salida\", \"Á\", \"A\")\n",
    ")\n",
    "\n",
    "df_emisivo = df_emisivo.withColumn(\n",
    "    \"Lugar Salida\",\n",
    "    F.regexp_replace(\"Lugar Salida\", \"É\", \"E\")\n",
    ")\n",
    "\n",
    "df_emisivo = df_emisivo.withColumn(\n",
    "    \"Lugar Salida\",\n",
    "    F.regexp_replace(\"Lugar Salida\", \"Í\", \"I\")\n",
    ")\n",
    "\n",
    "df_emisivo = df_emisivo.withColumn(\n",
    "    \"Lugar Salida\",\n",
    "    F.regexp_replace(\"Lugar Salida\", \"Ó\", \"O\")\n",
    ")\n",
    "\n",
    "df_emisivo = df_emisivo.withColumn(\n",
    "    \"Lugar Salida\",\n",
    "    F.regexp_replace(\"Lugar Salida\", \"Ú\", \"U\")\n",
    ")\n",
    "\n",
    "df_emisivo = df_emisivo.withColumn(\n",
    "    \"Lugar Salida\",\n",
    "    F.regexp_replace(\"Lugar Salida\", \"á\", \"a\")\n",
    ")\n",
    "\n",
    "df_emisivo = df_emisivo.withColumn(\n",
    "    \"Lugar Salida\",\n",
    "    F.regexp_replace(\"Lugar Salida\", \"é\", \"e\")\n",
    ")\n",
    "\n",
    "df_emisivo = df_emisivo.withColumn(\n",
    "    \"Lugar Salida\",\n",
    "    F.regexp_replace(\"Lugar Salida\", \"í\", \"i\")\n",
    ")\n",
    "\n",
    "df_emisivo = df_emisivo.withColumn(\n",
    "    \"Lugar Salida\",\n",
    "    F.regexp_replace(\"Lugar Salida\", \"ó\", \"o\")\n",
    ")\n",
    "\n",
    "df_emisivo = df_emisivo.withColumn(\n",
    "    \"Lugar Salida\",\n",
    "    F.regexp_replace(\"Lugar Salida\", \"ú\", \"u\")\n",
    ")\n"
   ]
  },
  {
   "cell_type": "code",
   "execution_count": 34,
   "id": "2da36d6b-b9e7-4900-a5e9-70208528d4e9",
   "metadata": {},
   "outputs": [],
   "source": [
    "# Normalizar columna \"Motivo\" en df_emisivo\n",
    "df_emisivo = df_emisivo.withColumn(\n",
    "    \"Motivo\",\n",
    "    F.when(F.col(\"Motivo\") == \"Trabajo / Profesion\", \"Trabajo\")\n",
    "    .when(F.col(\"Motivo\") == \"Trabajo remunerado Destino\", \"Trabajo\")\n",
    "    .when(F.col(\"Motivo\") == \"Ocio, Recreo, Vacaciones\", \"Ocio / Vacaciones\")\n",
    "    .when(F.col(\"Motivo\") == \"Tratamiento Salud\", \"Salud\")\n",
    "    .when(F.col(\"Motivo\") == \"Religion y Peregrinaciones\", \"Religion\")\n",
    "    .when(F.col(\"Motivo\") == \"Deportivo\", \"Deporte\")\n",
    "    .otherwise(F.col(\"Motivo\"))  # Mantener el valor original si no hay coincidencia\n",
    ")"
   ]
  },
  {
   "cell_type": "markdown",
   "id": "f00d1ef3-d4aa-4ac7-8864-b50e2d6f96b4",
   "metadata": {},
   "source": [
    "# Cruceros\n",
    "Contiene los datos de tráfico de cruceros"
   ]
  },
  {
   "cell_type": "code",
   "execution_count": 35,
   "id": "b0a78318-1ac8-446b-bb4c-da27bdb90e12",
   "metadata": {},
   "outputs": [],
   "source": [
    "df_crucero = spark.read.csv('../../obligatorio/lnd/cruceros', header=True, sep=',',inferSchema=True)"
   ]
  },
  {
   "cell_type": "markdown",
   "id": "2b6e549c-8f08-4eba-99c7-cbbbc8eaa1a5",
   "metadata": {},
   "source": [
    "Asi podemos visualizar los tipos de datos y columnas"
   ]
  },
  {
   "cell_type": "code",
   "execution_count": 36,
   "id": "c93d7869-a5d8-4cc3-96e7-9e289ad29b4a",
   "metadata": {},
   "outputs": [
    {
     "name": "stdout",
     "output_type": "stream",
     "text": [
      "root\n",
      " |-- IdCruceros: integer (nullable = true)\n",
      " |-- idNacionalidad: integer (nullable = true)\n",
      " |-- Pais: string (nullable = true)\n",
      " |-- Fecha: date (nullable = true)\n",
      " |-- idfecha: integer (nullable = true)\n",
      " |-- idPuerto: integer (nullable = true)\n",
      " |-- Puerto: string (nullable = true)\n",
      " |-- TotalPersonas: integer (nullable = true)\n",
      " |-- CantidadVisitas: integer (nullable = true)\n",
      " |-- GastoTotal: double (nullable = true)\n",
      " |-- GastoTours: double (nullable = true)\n",
      " |-- GastoAlimentacion: double (nullable = true)\n",
      " |-- GastoTransporte: double (nullable = true)\n",
      " |-- GastoShopping: double (nullable = true)\n",
      " |-- GastoOtros: double (nullable = true)\n",
      "\n"
     ]
    }
   ],
   "source": [
    "df_crucero.printSchema()"
   ]
  },
  {
   "cell_type": "markdown",
   "id": "a20a372a-869e-4a47-b3f9-d6ab2e71e488",
   "metadata": {},
   "source": [
    "### Descripción de las Columnas\n",
    "\n",
    "- IdCruceros es el código identificatorio de los cruceros.\n",
    "- Pais corresponde a la nacionalidad del entrevistado y tiene su propio ID (idNacionalidad).\n",
    "- Fecha indica cuándo se realizó la encuesta y tiene un ID (idfecha).\n",
    "- Puerto es el puerto de arribo del crucerista con su ID (idPuerto).\n",
    "- Total Personas indica la cantidad de personas en cada grupo.\n",
    "- Cantidad Visitas representa el número de visitas anteriores del crucerista.\n",
    "- Gasto Total, Gasto Tours, Gasto Alimentacion, Gasto Transporte, Gasto Shopping, Gasto Otros corresponde a todos los tipos de gastos realizados y su valor en dólares americanos."
   ]
  },
  {
   "cell_type": "markdown",
   "id": "fec877bf-f0f0-4c31-be80-175fbc98b526",
   "metadata": {},
   "source": [
    "decir que probamos que por ejemplo brasil y brazil no pasaba (por eso no agregamos columna de id a paises y a las demas tablas)"
   ]
  },
  {
   "cell_type": "code",
   "execution_count": 37,
   "id": "ee00c0af-24d6-4875-832f-a7b5712d17a3",
   "metadata": {},
   "outputs": [],
   "source": [
    "# Cantidad de visitas"
   ]
  },
  {
   "cell_type": "code",
   "execution_count": 38,
   "id": "93d9e9de-7cee-4d61-b659-5d5061d775e7",
   "metadata": {},
   "outputs": [],
   "source": [
    "df_crucero = df_crucero.fillna({'CantidadVisitas': 0}) # Cambiamos a 0 los que tenian valor null\n"
   ]
  },
  {
   "cell_type": "code",
   "execution_count": 39,
   "id": "0d90d632-3152-4f1d-80e6-316263418f67",
   "metadata": {},
   "outputs": [],
   "source": [
    "# Para acordarnos, tenemos que ver si todos los datos que tenemos de dinero estan en la misma moneda"
   ]
  },
  {
   "cell_type": "code",
   "execution_count": 40,
   "id": "0ba9c848-993b-4591-a365-9169fe9546c9",
   "metadata": {},
   "outputs": [],
   "source": [
    "# Quitar columnas que no usamos\n",
    "df_crucero = df_crucero.drop(\"idNacionalidad\", \"idPuerto\", \"idFecha\");\n"
   ]
  },
  {
   "cell_type": "code",
   "execution_count": 41,
   "id": "aaf9e8a9-2b1e-4ae1-950e-9b5ffd8f49fa",
   "metadata": {},
   "outputs": [
    {
     "name": "stdout",
     "output_type": "stream",
     "text": [
      "root\n",
      " |-- IdCruceros: integer (nullable = true)\n",
      " |-- Pais: string (nullable = true)\n",
      " |-- Fecha: date (nullable = true)\n",
      " |-- Puerto: string (nullable = true)\n",
      " |-- TotalPersonas: integer (nullable = true)\n",
      " |-- CantidadVisitas: integer (nullable = false)\n",
      " |-- GastoTotal: double (nullable = true)\n",
      " |-- GastoTours: double (nullable = true)\n",
      " |-- GastoAlimentacion: double (nullable = true)\n",
      " |-- GastoTransporte: double (nullable = true)\n",
      " |-- GastoShopping: double (nullable = true)\n",
      " |-- GastoOtros: double (nullable = true)\n",
      "\n"
     ]
    }
   ],
   "source": [
    "df_crucero.printSchema()"
   ]
  },
  {
   "cell_type": "code",
   "execution_count": 42,
   "id": "c3e8a3da-6f33-4076-861f-6e1d8395f536",
   "metadata": {},
   "outputs": [],
   "source": [
    "# Asegurarnos de que la suma de todos los gastos y GastoTotal se correspondan\n",
    "\n",
    "# Crear una nueva columna que calcule la suma de los otros gastos\n",
    "df_crucero = df_crucero.withColumn(\n",
    "    \"SumaGastos\",\n",
    "    F.col(\"GastoTours\") + F.col(\"GastoAlimentacion\") + F.col(\"GastoTransporte\") + F.col(\"GastoShopping\") + F.col(\"GastoOtros\")\n",
    ")\n",
    "\n",
    "# Cuando GastoTotal es mayor que SumaGastos, agregar la diferencia a GastoOtros\n",
    "df_crucero = df_crucero.withColumn(\n",
    "    \"GastoOtros\",\n",
    "    F.when(F.col(\"GastoTotal\") > F.col(\"SumaGastos\"), F.col(\"GastoOtros\") + (F.col(\"GastoTotal\") - F.col(\"SumaGastos\")))\n",
    "    .otherwise(F.col(\"GastoOtros\"))\n",
    ")\n",
    "\n",
    "# Cuando SumaGastos es mayor que GastoTotal, actualizar GastoTotal con el valor de SumaGastos\n",
    "df_crucero = df_crucero.withColumn(\n",
    "    \"GastoTotal\",\n",
    "    F.when(F.col(\"SumaGastos\") > F.col(\"GastoTotal\"), F.col(\"SumaGastos\"))\n",
    "    .otherwise(F.col(\"GastoTotal\"))\n",
    ")\n",
    "\n",
    "df_crucero = df_crucero.drop(\"SumaGastos\");\n"
   ]
  },
  {
   "cell_type": "code",
   "execution_count": 43,
   "id": "8e4c472c-34e9-4eed-a359-a5d5acc10919",
   "metadata": {},
   "outputs": [
    {
     "name": "stdout",
     "output_type": "stream",
     "text": [
      "1\n"
     ]
    }
   ],
   "source": [
    "# Para no perder datos, los datos de Crucero con Pais = \"Sin Datos\" no los borramos pero no vamos a poder considerarlos cuando hagamos mapas de calor por ejemplo. (solo es 1 registro)\n",
    "\n",
    "# Usando filter\n",
    "df_sin_datos = df_crucero.filter(F.col(\"Pais\") == \"Sin Datos\")\n",
    "\n",
    "print(df_sin_datos.count())"
   ]
  },
  {
   "cell_type": "markdown",
   "id": "1b79a960-685d-4b35-805b-2101a14f6d6f",
   "metadata": {},
   "source": [
    "# Paises\n",
    "Contiene los mappeos de paises a el nombre en inglés y su continente"
   ]
  },
  {
   "cell_type": "code",
   "execution_count": 57,
   "id": "4003ee67-7d25-4a65-9f6b-f5224830bd64",
   "metadata": {},
   "outputs": [
    {
     "name": "stderr",
     "output_type": "stream",
     "text": [
      "                                                                                \r"
     ]
    }
   ],
   "source": [
    "df_paises = spark.read.csv('../../obligatorio/lnd/paises', header=True, sep=',',inferSchema=True)"
   ]
  },
  {
   "cell_type": "markdown",
   "id": "0c1131a2-823b-4166-938e-dbe4dde0b498",
   "metadata": {},
   "source": [
    "## Guardar los data frames en rfn"
   ]
  },
  {
   "cell_type": "code",
   "execution_count": 58,
   "id": "1c25bb9c-a6fc-4003-a5dc-882a6eb89a13",
   "metadata": {},
   "outputs": [
    {
     "name": "stderr",
     "output_type": "stream",
     "text": [
      "                                                                                \r"
     ]
    }
   ],
   "source": [
    "df_crucero.write.csv('/obligatorio/rfn/cruceros', header=True, mode='overwrite')\n",
    "df_emisivo.write.csv('/obligatorio/rfn/emisivo', header=True, mode='overwrite')\n",
    "df_receptivo.write.csv('/obligatorio/rfn/receptivo', header=True, mode='overwrite')\n",
    "df_paises.write.csv('/obligatorio/rfn/paises', header=True, mode='overwrite')\n"
   ]
  },
  {
   "cell_type": "markdown",
   "id": "edc4d9c1-3140-4505-99e1-c9edf9de5ad4",
   "metadata": {},
   "source": [
    "## Mover los archivos de lnd a raw"
   ]
  },
  {
   "cell_type": "code",
   "execution_count": 48,
   "id": "dd454f41-f9bc-4f48-aca9-15edb7b5792b",
   "metadata": {},
   "outputs": [],
   "source": [
    "hadoop_conf = spark._jsc.hadoopConfiguration()"
   ]
  },
  {
   "cell_type": "code",
   "execution_count": 51,
   "id": "7a410018-262c-4133-ac2f-06c62cbb586b",
   "metadata": {},
   "outputs": [],
   "source": [
    "fs = spark._jvm.org.apache.hadoop.fs.FileSystem.get(hadoop_conf)"
   ]
  },
  {
   "cell_type": "code",
   "execution_count": 53,
   "id": "c080ccf0-1d94-4f33-b463-473f55896f51",
   "metadata": {},
   "outputs": [
    {
     "data": {
      "text/plain": [
       "True"
      ]
     },
     "execution_count": 53,
     "metadata": {},
     "output_type": "execute_result"
    }
   ],
   "source": [
    "ruta_origen_receptivo = \"/obligatorio/lnd/receptivo\"\n",
    "ruta_destino_receptivo = \"/obligatorio/raw/receptivo\"\n",
    "\n",
    "# Mover el archivo de lnd a raw\n",
    "fs.rename(\n",
    "    spark._jvm.org.apache.hadoop.fs.Path(ruta_origen_receptivo),\n",
    "    spark._jvm.org.apache.hadoop.fs.Path(ruta_destino_receptivo)\n",
    ")"
   ]
  },
  {
   "cell_type": "code",
   "execution_count": 59,
   "id": "e21565f1-366f-4e01-a552-67e47dda7330",
   "metadata": {},
   "outputs": [
    {
     "data": {
      "text/plain": [
       "True"
      ]
     },
     "execution_count": 59,
     "metadata": {},
     "output_type": "execute_result"
    }
   ],
   "source": [
    "ruta_origen_emisivo = \"/obligatorio/lnd/emisivo\"\n",
    "ruta_destino_emisivo = \"/obligatorio/raw/emisivo\"\n",
    "\n",
    "# Mover el archivo de lnd a raw\n",
    "fs.rename(\n",
    "    spark._jvm.org.apache.hadoop.fs.Path(ruta_origen_emisivo),\n",
    "    spark._jvm.org.apache.hadoop.fs.Path(ruta_destino_emisivo)\n",
    ")"
   ]
  },
  {
   "cell_type": "code",
   "execution_count": 60,
   "id": "4711784b-ca2d-4b5b-a7de-4eed18ed014f",
   "metadata": {},
   "outputs": [
    {
     "data": {
      "text/plain": [
       "True"
      ]
     },
     "execution_count": 60,
     "metadata": {},
     "output_type": "execute_result"
    }
   ],
   "source": [
    "ruta_origen_cruceros = \"/obligatorio/lnd/cruceros\"\n",
    "ruta_destino_cruceros = \"/obligatorio/raw/cruceros\"\n",
    "\n",
    "# Mover el archivo de lnd a raw\n",
    "fs.rename(\n",
    "    spark._jvm.org.apache.hadoop.fs.Path(ruta_origen_cruceros),\n",
    "    spark._jvm.org.apache.hadoop.fs.Path(ruta_destino_cruceros)\n",
    ")"
   ]
  },
  {
   "cell_type": "code",
   "execution_count": 61,
   "id": "fc882255-fc70-4cf9-8efa-d934c42c9a6c",
   "metadata": {},
   "outputs": [
    {
     "data": {
      "text/plain": [
       "True"
      ]
     },
     "execution_count": 61,
     "metadata": {},
     "output_type": "execute_result"
    }
   ],
   "source": [
    "ruta_origen_paises = \"/obligatorio/lnd/paises\"\n",
    "ruta_destino_paises = \"/obligatorio/raw/paises\"\n",
    "\n",
    "# Mover el archivo de lnd a raw\n",
    "fs.rename(\n",
    "    spark._jvm.org.apache.hadoop.fs.Path(ruta_origen_paises),\n",
    "    spark._jvm.org.apache.hadoop.fs.Path(ruta_destino_paises)\n",
    ")"
   ]
  },
  {
   "cell_type": "code",
   "execution_count": null,
   "id": "535bf221-2d59-4e09-b677-a7473849ced2",
   "metadata": {},
   "outputs": [],
   "source": []
  }
 ],
 "metadata": {
  "kernelspec": {
   "display_name": "Python 3 (ipykernel)",
   "language": "python",
   "name": "python3"
  },
  "language_info": {
   "codemirror_mode": {
    "name": "ipython",
    "version": 3
   },
   "file_extension": ".py",
   "mimetype": "text/x-python",
   "name": "python",
   "nbconvert_exporter": "python",
   "pygments_lexer": "ipython3",
   "version": "3.8.8"
  }
 },
 "nbformat": 4,
 "nbformat_minor": 5
}
