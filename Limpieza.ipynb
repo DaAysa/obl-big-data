{
 "cells": [
  {
   "cell_type": "code",
   "execution_count": 3,
   "id": "425232c3-24f2-4df2-b3d1-907c2639e481",
   "metadata": {},
   "outputs": [],
   "source": [
    "from pyspark.sql import SparkSession\n",
    "\n",
    "from pyspark.sql.functions import *\n",
    "from pyspark.sql.types import *\n",
    "\n",
    "spark = SparkSession \\\n",
    "    .builder \\\n",
    "    .appName(\"limpieza\") \\\n",
    "    .getOrCreate()"
   ]
  },
  {
   "cell_type": "markdown",
   "id": "99e510ae-5981-4456-8b54-1fab157212d8",
   "metadata": {},
   "source": [
    "# Receptivo\n",
    "Contiene los datos de personas que ingresaron al país.\n",
    "\n",
    "Primero vamos a leer el archivo CSV que tenemos con los datos de Receptivo y creamos un dataframe llamado df_receptivo."
   ]
  },
  {
   "cell_type": "code",
   "execution_count": 4,
   "id": "651bc567-cfa2-45f4-9aef-f824c8e1c3d3",
   "metadata": {},
   "outputs": [
    {
     "name": "stderr",
     "output_type": "stream",
     "text": [
      "                                                                                \r"
     ]
    }
   ],
   "source": [
    "df_receptivo = spark.read.csv('../../obligatorio/lnd/receptivo', header=True, sep=',',inferSchema=True)"
   ]
  },
  {
   "cell_type": "markdown",
   "id": "9718598a-b5dd-48ca-b1aa-ab4ba1d43eac",
   "metadata": {},
   "source": [
    "Vamos a visualizar los tipos de datos y columnas:"
   ]
  },
  {
   "cell_type": "code",
   "execution_count": 5,
   "id": "ee40472d-67fd-4a31-b3a8-a4a85bcb662a",
   "metadata": {},
   "outputs": [
    {
     "name": "stdout",
     "output_type": "stream",
     "text": [
      "root\n",
      " |-- IdIngresos: integer (nullable = true)\n",
      " |-- Lugar Ingreso: string (nullable = true)\n",
      " |-- IdTranspIngreso: integer (nullable = true)\n",
      " |-- Transporte Internacional de Ingreso: string (nullable = true)\n",
      " |-- FechaIngreso: date (nullable = true)\n",
      " |-- IdFecIng: integer (nullable = true)\n",
      " |-- FechaEgreso: date (nullable = true)\n",
      " |-- IdFecEgr: integer (nullable = true)\n",
      " |-- IdNacionalidad: integer (nullable = true)\n",
      " |-- Pais: string (nullable = true)\n",
      " |-- IdResidencia: integer (nullable = true)\n",
      " |-- Residencia: string (nullable = true)\n",
      " |-- IdMotivo: integer (nullable = true)\n",
      " |-- Motivo: string (nullable = true)\n",
      " |-- IdOcupacion: integer (nullable = true)\n",
      " |-- Ocupacion: string (nullable = true)\n",
      " |-- IsEstudio: integer (nullable = true)\n",
      " |-- Estudio: string (nullable = true)\n",
      " |-- IdDestinoLocalidad: integer (nullable = true)\n",
      " |-- Localidad: string (nullable = true)\n",
      " |-- IdDepartamentoDestino: integer (nullable = true)\n",
      " |-- Departamento: string (nullable = true)\n",
      " |-- IdOtroDepartamento: integer (nullable = true)\n",
      " |-- Otro Departamento: string (nullable = true)\n",
      " |-- IdOtraLocalidad: integer (nullable = true)\n",
      " |-- Otra Localidad: string (nullable = true)\n",
      " |-- IdAlojamiento: integer (nullable = true)\n",
      " |-- Alojamiento: string (nullable = true)\n",
      " |-- IdTranspLocal: integer (nullable = true)\n",
      " |-- TransporteLocal: string (nullable = true)\n",
      " |-- IdEgresos: integer (nullable = true)\n",
      " |-- Lugar Egreso: string (nullable = true)\n",
      " |-- IdTranspEgreso: integer (nullable = true)\n",
      " |-- Transporte Internacional de Egreso: string (nullable = true)\n",
      " |-- IdDestino: integer (nullable = true)\n",
      " |-- Destino: string (nullable = true)\n",
      " |-- Estadia: integer (nullable = true)\n",
      " |-- Gente: integer (nullable = true)\n",
      " |-- GastoTotal: double (nullable = true)\n",
      " |-- GastoAlojamiento: double (nullable = true)\n",
      " |-- GastoAlimentacion: double (nullable = true)\n",
      " |-- GastoTransporte: double (nullable = true)\n",
      " |-- GastoCultural: double (nullable = true)\n",
      " |-- GastoTours: double (nullable = true)\n",
      " |-- GastoCompras: double (nullable = true)\n",
      " |-- GastoOtros: double (nullable = true)\n",
      " |-- Coef: double (nullable = true)\n",
      " |-- CoefTot: double (nullable = true)\n",
      "\n"
     ]
    }
   ],
   "source": [
    "df_receptivo.printSchema()"
   ]
  },
  {
   "cell_type": "markdown",
   "id": "01ca8a4d-8090-4160-9d91-6d1f5af915f1",
   "metadata": {},
   "source": [
    "### Descripción de las Columnas\n",
    "\n",
    "- \"Lugar Ingreso\" es por donde el entrevistado ingresó y tiene su propio ID (IdIngresos).\n",
    "- \"Transporte Internacional de Ingreso\" es el medio por el cual ingresó y tiene su propio ID (IdTranspIngreso).\n",
    "- \"FechaIngreso\" corresponde a la fecha de ingreso con su ID (IdFecIng).\n",
    "- \"FechaEgreso\" corresponde a la fecha de salida con su ID (IdFecEgr).\n",
    "- \"Pais\" es la nacionalidad de quien ingresó y tiene su propio ID (IdNacionalidad).\n",
    "- \"Residencia\" es el lugar de residencia del visitante, junto con su ID (IdResidencia).\n",
    "- \"Motivo\" es el motivo de ingreso, y cuenta con su propio ID (IdMotivo).\n",
    "- \"Ocupacion\" corresponde a la profesión del turista y tiene un ID (IdOcupacion).\n",
    "- \"Estudio\" es el nivel de estudios del visitante, que tiene su propio ID (IsEstudio).\n",
    "- \"Localidad\" es el principal destino de la visita con su ID (IdDestinoLocalidad).\n",
    "- \"Departamento\" corresponde al departamento de destino principal con su ID (IdDepartamentoDestino).\n",
    "- \"Otro Departamento\" es un posible segundo destino y tiene su ID (IdOtroDepartamento).\n",
    "- \"Otra Localidad\" corresponde a una segunda localidad visitada con su ID (IdOtraLocalidad).\n",
    "- \"Alojamiento\" es el tipo de alojamiento utilizado con su ID (IdAlojamiento).\n",
    "- \"TransporteLocal\" corresponde al transporte utilizado durante la estadía y tiene un ID (IdTranspLocal).\n",
    "- \"Lugar Egreso\" es por donde se egresó y cuenta con su ID (IdEgresos).\n",
    "- \"Transporte Internacional de Egreso\" corresponde al transporte utilizado para salir del país con su ID (IdTranspEgreso).\n",
    "- \"Destino\" es la zona de destino principal con su ID (IdDestino).\n",
    "- \"Estadia\" representa los días que permaneció en el país.\n",
    "- \"Gente\" es la cantidad de personas del grupo encuestado.\n",
    "- \"GastoTotal\", \"GastoAlojamiento\", \"GastoAlimentacion\", \"GastoTransporte\", \"GastoCultural\", \"GastoTours\", \"GastoCompras\" y \"GastoOtros\" corresponde a todos los tipos de gastos posibles, expresado en dólares americanos.\n",
    "- \"Coef\" es el coeficiente de expansión del gasto.\n",
    "- \"CoefTot\" es el coeficiente de expansión de las personas."
   ]
  },
  {
   "cell_type": "markdown",
   "id": "9692ab3b-14f5-43c1-b060-f2eda730bc28",
   "metadata": {},
   "source": [
    "A continuación, eliminamos las columnas innecesarias, en particular los Id de cada columna y los coeficientes de expansión del gasto y de expansión de personas."
   ]
  },
  {
   "cell_type": "code",
   "execution_count": 6,
   "id": "4a8ca434-b5bf-4c0d-897f-8d1df729b3c9",
   "metadata": {},
   "outputs": [
    {
     "name": "stdout",
     "output_type": "stream",
     "text": [
      "root\n",
      " |-- Lugar Ingreso: string (nullable = true)\n",
      " |-- Transporte Internacional de Ingreso: string (nullable = true)\n",
      " |-- FechaIngreso: date (nullable = true)\n",
      " |-- FechaEgreso: date (nullable = true)\n",
      " |-- Pais: string (nullable = true)\n",
      " |-- Residencia: string (nullable = true)\n",
      " |-- Motivo: string (nullable = true)\n",
      " |-- Ocupacion: string (nullable = true)\n",
      " |-- Estudio: string (nullable = true)\n",
      " |-- Localidad: string (nullable = true)\n",
      " |-- Departamento: string (nullable = true)\n",
      " |-- Otro Departamento: string (nullable = true)\n",
      " |-- Otra Localidad: string (nullable = true)\n",
      " |-- Alojamiento: string (nullable = true)\n",
      " |-- TransporteLocal: string (nullable = true)\n",
      " |-- Lugar Egreso: string (nullable = true)\n",
      " |-- Transporte Internacional de Egreso: string (nullable = true)\n",
      " |-- Destino: string (nullable = true)\n",
      " |-- Estadia: integer (nullable = true)\n",
      " |-- Gente: integer (nullable = true)\n",
      " |-- GastoTotal: double (nullable = true)\n",
      " |-- GastoAlojamiento: double (nullable = true)\n",
      " |-- GastoAlimentacion: double (nullable = true)\n",
      " |-- GastoTransporte: double (nullable = true)\n",
      " |-- GastoCultural: double (nullable = true)\n",
      " |-- GastoTours: double (nullable = true)\n",
      " |-- GastoCompras: double (nullable = true)\n",
      " |-- GastoOtros: double (nullable = true)\n",
      "\n"
     ]
    }
   ],
   "source": [
    "df_receptivo = df_receptivo.drop(\n",
    "    \"IdIngresos\", \n",
    "    \"IdTranspIngreso\", \n",
    "    \"IdFecIng\", \n",
    "    \"IdFecEgr\", \n",
    "    \"IdNacionalidad\", \n",
    "    \"IdResidencia\", \n",
    "    \"IdMotivo\", \n",
    "    \"IdOcupacion\", \n",
    "    \"IsEstudio\", \n",
    "    \"IdDestinoLocalidad\", \n",
    "    \"IdDepartamentoDestino\",\n",
    "    \"IdOtroDepartamento\",\n",
    "    \"IdOtraLocalidad\",\n",
    "    \"IdAlojamiento\", \n",
    "    \"IdTranspLocal\", \n",
    "    \"IdEgresos\",\n",
    "    \"IdTranspEgreso\",\n",
    "    \"IdDestino\",\n",
    "    \"Coef\",\n",
    "    \"CoefTot\",\n",
    ");\n",
    "\n",
    "df_receptivo.printSchema()"
   ]
  },
  {
   "cell_type": "markdown",
   "id": "7180c003-4c1f-4751-8d22-484001144556",
   "metadata": {},
   "source": [
    "Ahora pasamos a normalizar los nombres de los lugares por donde ingresaron y egresaron los encuestados para que queden igual a las otras columnas de la tabla. Esto se debe a que en \"Lugar Ingreso\" y \"Lugar Egreso\" los nombres de los lugares tenían tildes, pero en el resto de las columnas no. Se considera tanto mayúsculas como minúsculas."
   ]
  },
  {
   "cell_type": "code",
   "execution_count": 1,
   "id": "7130d6c1-536a-47f2-a451-da8a420ea9f3",
   "metadata": {},
   "outputs": [
    {
     "ename": "NameError",
     "evalue": "name 'df_receptivo' is not defined",
     "output_type": "error",
     "traceback": [
      "\u001b[0;31m---------------------------------------------------------------------------\u001b[0m",
      "\u001b[0;31mNameError\u001b[0m                                 Traceback (most recent call last)",
      "Cell \u001b[0;32mIn[1], line 4\u001b[0m\n\u001b[1;32m      1\u001b[0m \u001b[38;5;28;01mfrom\u001b[39;00m \u001b[38;5;21;01mpyspark\u001b[39;00m\u001b[38;5;21;01m.\u001b[39;00m\u001b[38;5;21;01msql\u001b[39;00m \u001b[38;5;28;01mimport\u001b[39;00m functions \u001b[38;5;28;01mas\u001b[39;00m F\n\u001b[1;32m      3\u001b[0m \u001b[38;5;66;03m# Reemplazar tildes en la columna \"Lugar Ingreso\"\u001b[39;00m\n\u001b[0;32m----> 4\u001b[0m df_receptivo \u001b[38;5;241m=\u001b[39m \u001b[43mdf_receptivo\u001b[49m\u001b[38;5;241m.\u001b[39mwithColumn(\n\u001b[1;32m      5\u001b[0m     \u001b[38;5;124m\"\u001b[39m\u001b[38;5;124mLugar Ingreso\u001b[39m\u001b[38;5;124m\"\u001b[39m,\n\u001b[1;32m      6\u001b[0m     F\u001b[38;5;241m.\u001b[39mregexp_replace(\u001b[38;5;124m\"\u001b[39m\u001b[38;5;124mLugar Ingreso\u001b[39m\u001b[38;5;124m\"\u001b[39m, \u001b[38;5;124m\"\u001b[39m\u001b[38;5;124mÁ\u001b[39m\u001b[38;5;124m\"\u001b[39m, \u001b[38;5;124m\"\u001b[39m\u001b[38;5;124mA\u001b[39m\u001b[38;5;124m\"\u001b[39m)\n\u001b[1;32m      7\u001b[0m )\n\u001b[1;32m      9\u001b[0m df_receptivo \u001b[38;5;241m=\u001b[39m df_receptivo\u001b[38;5;241m.\u001b[39mwithColumn(\n\u001b[1;32m     10\u001b[0m     \u001b[38;5;124m\"\u001b[39m\u001b[38;5;124mLugar Ingreso\u001b[39m\u001b[38;5;124m\"\u001b[39m,\n\u001b[1;32m     11\u001b[0m     F\u001b[38;5;241m.\u001b[39mregexp_replace(\u001b[38;5;124m\"\u001b[39m\u001b[38;5;124mLugar Ingreso\u001b[39m\u001b[38;5;124m\"\u001b[39m, \u001b[38;5;124m\"\u001b[39m\u001b[38;5;124mÉ\u001b[39m\u001b[38;5;124m\"\u001b[39m, \u001b[38;5;124m\"\u001b[39m\u001b[38;5;124mE\u001b[39m\u001b[38;5;124m\"\u001b[39m)\n\u001b[1;32m     12\u001b[0m )\n\u001b[1;32m     14\u001b[0m df_receptivo \u001b[38;5;241m=\u001b[39m df_receptivo\u001b[38;5;241m.\u001b[39mwithColumn(\n\u001b[1;32m     15\u001b[0m     \u001b[38;5;124m\"\u001b[39m\u001b[38;5;124mLugar Ingreso\u001b[39m\u001b[38;5;124m\"\u001b[39m,\n\u001b[1;32m     16\u001b[0m     F\u001b[38;5;241m.\u001b[39mregexp_replace(\u001b[38;5;124m\"\u001b[39m\u001b[38;5;124mLugar Ingreso\u001b[39m\u001b[38;5;124m\"\u001b[39m, \u001b[38;5;124m\"\u001b[39m\u001b[38;5;124mÍ\u001b[39m\u001b[38;5;124m\"\u001b[39m, \u001b[38;5;124m\"\u001b[39m\u001b[38;5;124mI\u001b[39m\u001b[38;5;124m\"\u001b[39m)\n\u001b[1;32m     17\u001b[0m )\n",
      "\u001b[0;31mNameError\u001b[0m: name 'df_receptivo' is not defined"
     ]
    }
   ],
   "source": [
    "from pyspark.sql import functions as F\n",
    "\n",
    "# Reemplazar tildes en la columna \"Lugar Ingreso\"\n",
    "df_receptivo = df_receptivo.withColumn(\n",
    "    \"Lugar Ingreso\",\n",
    "    F.regexp_replace(\"Lugar Ingreso\", \"Á\", \"A\")\n",
    ")\n",
    "\n",
    "df_receptivo = df_receptivo.withColumn(\n",
    "    \"Lugar Ingreso\",\n",
    "    F.regexp_replace(\"Lugar Ingreso\", \"É\", \"E\")\n",
    ")\n",
    "\n",
    "df_receptivo = df_receptivo.withColumn(\n",
    "    \"Lugar Ingreso\",\n",
    "    F.regexp_replace(\"Lugar Ingreso\", \"Í\", \"I\")\n",
    ")\n",
    "\n",
    "df_receptivo = df_receptivo.withColumn(\n",
    "    \"Lugar Ingreso\",\n",
    "    F.regexp_replace(\"Lugar Ingreso\", \"Ó\", \"O\")\n",
    ")\n",
    "\n",
    "df_receptivo = df_receptivo.withColumn(\n",
    "    \"Lugar Ingreso\",\n",
    "    F.regexp_replace(\"Lugar Ingreso\", \"Ú\", \"U\")\n",
    ")\n",
    "\n",
    "df_receptivo = df_receptivo.withColumn(\n",
    "    \"Lugar Ingreso\",\n",
    "    F.regexp_replace(\"Lugar Ingreso\", \"á\", \"a\")\n",
    ")\n",
    "\n",
    "df_receptivo = df_receptivo.withColumn(\n",
    "    \"Lugar Ingreso\",\n",
    "    F.regexp_replace(\"Lugar Ingreso\", \"é\", \"e\")\n",
    ")\n",
    "\n",
    "df_receptivo = df_receptivo.withColumn(\n",
    "    \"Lugar Ingreso\",\n",
    "    F.regexp_replace(\"Lugar Ingreso\", \"í\", \"i\")\n",
    ")\n",
    "\n",
    "df_receptivo = df_receptivo.withColumn(\n",
    "    \"Lugar Ingreso\",\n",
    "    F.regexp_replace(\"Lugar Ingreso\", \"ó\", \"o\")\n",
    ")\n",
    "\n",
    "df_receptivo = df_receptivo.withColumn(\n",
    "    \"Lugar Ingreso\",\n",
    "    F.regexp_replace(\"Lugar Ingreso\", \"ú\", \"u\")\n",
    ")\n",
    "\n",
    "# Reemplazar tildes en la columna \"Lugar Egreso\"\n",
    "df_receptivo = df_receptivo.withColumn(\n",
    "    \"Lugar Egreso\",\n",
    "    F.regexp_replace(\"Lugar Egreso\", \"Á\", \"A\")\n",
    ")\n",
    "\n",
    "df_receptivo = df_receptivo.withColumn(\n",
    "    \"Lugar Egreso\",\n",
    "    F.regexp_replace(\"Lugar Egreso\", \"É\", \"E\")\n",
    ")\n",
    "\n",
    "df_receptivo = df_receptivo.withColumn(\n",
    "    \"Lugar Egreso\",\n",
    "    F.regexp_replace(\"Lugar Egreso\", \"Í\", \"I\")\n",
    ")\n",
    "\n",
    "df_receptivo = df_receptivo.withColumn(\n",
    "    \"Lugar Egreso\",\n",
    "    F.regexp_replace(\"Lugar Egreso\", \"Ó\", \"O\")\n",
    ")\n",
    "\n",
    "df_receptivo = df_receptivo.withColumn(\n",
    "    \"Lugar Egreso\",\n",
    "    F.regexp_replace(\"Lugar Egreso\", \"Ú\", \"U\")\n",
    ")\n",
    "\n",
    "df_receptivo = df_receptivo.withColumn(\n",
    "    \"Lugar Egreso\",\n",
    "    F.regexp_replace(\"Lugar Egreso\", \"á\", \"a\")\n",
    ")\n",
    "\n",
    "df_receptivo = df_receptivo.withColumn(\n",
    "    \"Lugar Egreso\",\n",
    "    F.regexp_replace(\"Lugar Egreso\", \"é\", \"e\")\n",
    ")\n",
    "\n",
    "df_receptivo = df_receptivo.withColumn(\n",
    "    \"Lugar Egreso\",\n",
    "    F.regexp_replace(\"Lugar Egreso\", \"í\", \"i\")\n",
    ")\n",
    "\n",
    "df_receptivo = df_receptivo.withColumn(\n",
    "    \"Lugar Egreso\",\n",
    "    F.regexp_replace(\"Lugar Egreso\", \"ó\", \"o\")\n",
    ")\n",
    "\n",
    "df_receptivo = df_receptivo.withColumn(\n",
    "    \"Lugar Egreso\",\n",
    "    F.regexp_replace(\"Lugar Egreso\", \"ú\", \"u\")\n",
    ")"
   ]
  },
  {
   "cell_type": "markdown",
   "id": "3aac5441-b713-498a-9592-95d2b9f0cef9",
   "metadata": {},
   "source": [
    "A continuación, en las columnas de \"Ocupación\", \"Estudio\" y \"Localidad\" los datos que aparecen como \"Otros\", \"Sin Datos\" o como \"null\" los juntamos para que todos queden con en valor \"Otros\". \n",
    "También se modifica \"Ocupacion\" para agrupar aquellos que tenían asignado \"Otra situación Inactividad\" y \"Desocupado\" a que quede únicamente como \"Desocupado\". "
   ]
  },
  {
   "cell_type": "code",
   "execution_count": 9,
   "id": "ab3cd30d-a1d7-492c-8ce5-d3b72365f6c7",
   "metadata": {},
   "outputs": [],
   "source": [
    "df_receptivo = df_receptivo.withColumn(\n",
    "    \"Ocupacion\",\n",
    "    F.when(F.col(\"Ocupacion\").isin(\"Otros\", \"Sin Datos\", \"Desconocido / Sin Datos\"), \"Otros\")\n",
    "    .otherwise(F.col(\"Ocupacion\"))\n",
    ")\n",
    "\n",
    "df_receptivo = df_receptivo.withColumn(\n",
    "    \"Ocupacion\",\n",
    "    F.when(F.col(\"Ocupacion\").isin(\"Otra situacion Inactividad\", \"Desocupado\"), \"Desocupado\")\n",
    "    .otherwise(F.col(\"Ocupacion\"))\n",
    ")"
   ]
  },
  {
   "cell_type": "code",
   "execution_count": 10,
   "id": "bcd33a3a-05d7-42c1-8490-cb3aad0c0320",
   "metadata": {},
   "outputs": [],
   "source": [
    "df_receptivo = df_receptivo.withColumn(\n",
    "    \"Estudio\",\n",
    "    F.when(F.col(\"Estudio\").isin(\"Sin Datos\", \"Otros\"), \"Otros\")\n",
    "    .when(F.col(\"Estudio\").isNull(), \"Otros\") \n",
    "    .otherwise(F.col(\"Estudio\"))\n",
    ")"
   ]
  },
  {
   "cell_type": "markdown",
   "id": "555c26dd-45db-4e9e-805a-8edd91c939ac",
   "metadata": {},
   "source": [
    "Se encontró un error de redacción en las columnas de \"Localidad\" y de \"Otra Localidad\" en cuanto a cómo estaba escrito \"Jaureguiberry\" y se los modificó para corregirlo."
   ]
  },
  {
   "cell_type": "code",
   "execution_count": 11,
   "id": "54532f52-24b4-4b4f-a10e-99c53d985b33",
   "metadata": {},
   "outputs": [],
   "source": [
    "df_receptivo = df_receptivo.withColumn(\n",
    "    \"Localidad\",\n",
    "    F.when(F.col(\"Localidad\").isin(\"Sin Datos\", \"Otros\"), \"Otros\")\n",
    "    .when(F.col(\"Localidad\").isNull(), \"Otros\") \n",
    "    .when(F.col(\"Localidad\").isin(\"Jaugueriberry\"), \"Jaureguiberry\")\n",
    "    .otherwise(F.col(\"Localidad\"))\n",
    ")"
   ]
  },
  {
   "cell_type": "code",
   "execution_count": 12,
   "id": "9df400dd-4879-49c2-8310-edfe8c7b4869",
   "metadata": {},
   "outputs": [],
   "source": [
    "df_receptivo = df_receptivo.withColumn(\n",
    "    \"Otra Localidad\",\n",
    "    F.when(F.col(\"Otra Localidad\").isin(\"Jaugueriberry\"), \"Jaureguiberry\")\n",
    "    .otherwise(F.col(\"Otra Localidad\"))\n",
    ")"
   ]
  },
  {
   "cell_type": "markdown",
   "id": "4a24e7fa-5568-4344-964c-e3f5ab0aa9e7",
   "metadata": {},
   "source": [
    "En la columna \"Motivo\" se renombro algunos de los valores para que queden igual redactados a como están escritos en la columna de \"Motivo\" en Emisivo."
   ]
  },
  {
   "cell_type": "code",
   "execution_count": 13,
   "id": "08a008aa-194f-4622-aed4-a4586fa8c9b2",
   "metadata": {},
   "outputs": [
    {
     "name": "stderr",
     "output_type": "stream",
     "text": [
      "[Stage 2:=============================>                             (1 + 1) / 2]\r"
     ]
    },
    {
     "name": "stdout",
     "output_type": "stream",
     "text": [
      "+--------------------------+-----+\n",
      "|Motivo                    |count|\n",
      "+--------------------------+-----+\n",
      "|Trabajo                   |6397 |\n",
      "|Salud                     |277  |\n",
      "|Visita familiares / amigos|15282|\n",
      "|Transito                  |3111 |\n",
      "|Religion                  |193  |\n",
      "|Compras                   |249  |\n",
      "|Estudios                  |292  |\n",
      "|Ocio / Vacaciones         |36248|\n",
      "|Segunda Residencia        |2161 |\n",
      "|Otros                     |1022 |\n",
      "|MICE                      |101  |\n",
      "+--------------------------+-----+\n",
      "\n"
     ]
    },
    {
     "name": "stderr",
     "output_type": "stream",
     "text": [
      "                                                                                \r"
     ]
    }
   ],
   "source": [
    "df_receptivo = df_receptivo.withColumn(\n",
    "    \"Motivo\",\n",
    "    F.when(F.col(\"Motivo\") == \"Trabajo / Profesional\", \"Trabajo\")\n",
    "    .when(F.col(\"Motivo\") == \"Ocio y vacaciones\", \"Ocio / Vacaciones\")\n",
    "    .when(F.col(\"Motivo\") == \"Visita a familiares y amigos\", \"Visita familiares / amigos\")\n",
    "    .when(F.col(\"Motivo\") == \"Salud / wellness\", \"Salud\")\n",
    "    .when(F.col(\"Motivo\") == \"Religioso\", \"Religion\")\n",
    "    .otherwise(F.col(\"Motivo\"))\n",
    ")"
   ]
  },
  {
   "cell_type": "markdown",
   "id": "7ff6c2aa-ba03-4342-8b22-1d3ca503ce30",
   "metadata": {},
   "source": [
    "En la columna de \"Alojamiento\" se corrigió un error de redacción en \"Apart Hotel\". También se cambió los valores que dijeran \"Sin Datos\" para que queden agrupadas con el valor \"Otros\" en las columnas de \"Alojamiento\", \"TransporteLocal\", \"Lugar Egreso\" y \"Transporte Internacional de Egreso\"."
   ]
  },
  {
   "cell_type": "code",
   "execution_count": 14,
   "id": "b424c24b-f071-4133-bd4c-d304c6d62f14",
   "metadata": {},
   "outputs": [],
   "source": [
    "df_receptivo = df_receptivo.withColumn(\n",
    "    \"Alojamiento\",\n",
    "    F.when(F.col(\"Alojamiento\") == \"Appart Hotel\", \"Apart Hotel\")\n",
    "    .when(F.col(\"Alojamiento\") == \"Sin Datos\", \"Otros\")\n",
    "    .otherwise(F.col(\"Alojamiento\"))\n",
    ")"
   ]
  },
  {
   "cell_type": "code",
   "execution_count": 15,
   "id": "3083629c-31cc-487f-82cb-a88301c69d6d",
   "metadata": {},
   "outputs": [],
   "source": [
    "df_receptivo = df_receptivo.withColumn(\n",
    "    \"TransporteLocal\",\n",
    "    F.when(F.col(\"TransporteLocal\") == \"Sin Datos\", \"Otros\")\n",
    "    .otherwise(F.col(\"TransporteLocal\"))\n",
    ")"
   ]
  },
  {
   "cell_type": "code",
   "execution_count": 16,
   "id": "7aa0fc6b-212a-4c04-baf4-1b741ddf2aa2",
   "metadata": {},
   "outputs": [],
   "source": [
    "df_receptivo = df_receptivo.withColumn(\n",
    "    \"Lugar Egreso\",\n",
    "    F.when(F.col(\"Lugar Egreso\") == \"Sin Datos\", \"Otros\")\n",
    "    .otherwise(F.col(\"Lugar Egreso\"))\n",
    ")"
   ]
  },
  {
   "cell_type": "code",
   "execution_count": 17,
   "id": "554c5956-3501-40b9-97f1-ba35a2a962de",
   "metadata": {},
   "outputs": [],
   "source": [
    "df_receptivo = df_receptivo.withColumn(\n",
    "    \"Transporte Internacional de Egreso\",\n",
    "    F.when(F.col(\"Transporte Internacional de Egreso\") == \"Sin Datos\", \"Otros\")\n",
    "    .otherwise(F.col(\"Transporte Internacional de Egreso\"))\n",
    ")"
   ]
  },
  {
   "cell_type": "markdown",
   "id": "2f3d2020-34e2-4e80-a356-7183d4a8af89",
   "metadata": {},
   "source": [
    "A continuación, se trabajará con las columnas de gastos. El objetivo principal es verificar que los gastos registrados en estas columnas coincidan con el valor indicado como el total de gastos (en GastoTotal).\n",
    "\n",
    "Primero, se calcula la suma de todos los tipos de gastos (alojamiento, transporte, etc.) y luego se compara con el valor registrado en la columna GastoTotal. Si la suma de los gastos calculada resulta menor que el valor de GastoTotal, se registra la diferencia en la columna GastosOtros. Por el contrario, si la suma de los gastos es mayor que el valor de GastoTotal, se actualiza esta última columna con el valor obtenido en la suma."
   ]
  },
  {
   "cell_type": "code",
   "execution_count": 18,
   "id": "1995169d-e77e-4ffb-adf0-4e6e31a1eab7",
   "metadata": {},
   "outputs": [],
   "source": [
    "# Crear una nueva columna que calcule la suma de los otros gastos\n",
    "df_receptivo = df_receptivo.withColumn(\n",
    "    \"SumaGastos\",\n",
    "    F.col(\"GastoAlojamiento\") + F.col(\"GastoAlimentacion\") + F.col(\"GastoTransporte\") + F.col(\"GastoCultural\") + F.col(\"GastoTours\") + F.col(\"GastoCompras\") + F.col(\"GastoOtros\")\n",
    ")\n",
    "\n",
    "# Cuando GastoTotal es mayor que SumaGastos, agregar la diferencia a GastoOtros\n",
    "df_receptivo = df_receptivo.withColumn(\n",
    "    \"GastoOtros\",\n",
    "    F.when(F.col(\"GastoTotal\") > F.col(\"SumaGastos\"), F.col(\"GastoOtros\") + (F.col(\"GastoTotal\") - F.col(\"SumaGastos\")))\n",
    "    .otherwise(F.col(\"GastoOtros\"))\n",
    ")\n",
    "\n",
    "# Cuando SumaGastos es mayor que GastoTotal, actualizar GastoTotal con el valor de SumaGastos\n",
    "df_receptivo = df_receptivo.withColumn(\n",
    "    \"GastoTotal\",\n",
    "    F.when(F.col(\"SumaGastos\") > F.col(\"GastoTotal\"), F.col(\"SumaGastos\"))\n",
    "    .otherwise(F.col(\"GastoTotal\"))\n",
    ")\n",
    "\n",
    "df_receptivo = df_receptivo.drop(\"SumaGastos\");"
   ]
  },
  {
   "cell_type": "markdown",
   "id": "71551473-beb5-4c30-ac27-a17109c369a6",
   "metadata": {},
   "source": [
    "Por último, renombramos las columnas para facilitar el uso de las mismas para cuando se trabaje con Hive."
   ]
  },
  {
   "cell_type": "code",
   "execution_count": 19,
   "id": "7e0874ba-d10c-4fc0-8c3b-4cb59902788b",
   "metadata": {},
   "outputs": [],
   "source": [
    "column_mapping = {\n",
    "    \"Lugar Ingreso\": \"lugar_ingreso\",\n",
    "    \"Transporte Internacional de Ingreso\": \"transporte_internacional_de_ingreso\",\n",
    "    \"FechaIngreso\": \"fecha_ingreso\",\n",
    "    \"FechaEgreso\": \"fecha_egreso\",\n",
    "    \"Pais\": \"pais\",\n",
    "    \"Residencia\": \"residencia\",\n",
    "    \"Motivo\": \"motivo\",\n",
    "    \"Ocupacion\": \"ocupacion\",\n",
    "    \"Estudio\": \"estudio\",\n",
    "    \"Localidad\": \"localidad\",\n",
    "    \"Departamento\": \"departamento\",\n",
    "    \"Otro Departamento\": \"otro_departamento\",\n",
    "    \"Otra Localidad\": \"otra_localidad\",\n",
    "    \"Alojamiento\": \"alojamiento\",\n",
    "    \"TransporteLocal\": \"transporte_local\",\n",
    "    \"Lugar Egreso\": \"lugar_egreso\",\n",
    "    \"Transporte Internacional de Egreso\": \"transporte_internacional_de_egreso\",\n",
    "    \"Destino\": \"destino\",\n",
    "    \"Estadia\": \"estadia\",\n",
    "    \"Gente\": \"gente\",\n",
    "    \"GastoTotal\": \"gasto_total\",\n",
    "    \"GastoAlojamiento\": \"gasto_alojamiento\",\n",
    "    \"GastoAlimentacion\": \"gasto_alimentacion\",\n",
    "    \"GastoTransporte\": \"gasto_transporte\",\n",
    "    \"GastoCultural\": \"gasto_cultural\",\n",
    "    \"GastoTours\": \"gasto_tours\",\n",
    "    \"GastoCompras\": \"gasto_compras\",\n",
    "    \"GastoOtros\": \"gasto_otros\"\n",
    "}\n",
    "\n",
    "for old_name, new_name in column_mapping.items():\n",
    "    df_receptivo = df_receptivo.withColumnRenamed(old_name, new_name)"
   ]
  },
  {
   "cell_type": "code",
   "execution_count": 20,
   "id": "fc6998c1-a356-4504-ae96-77d4eda18e00",
   "metadata": {},
   "outputs": [
    {
     "name": "stdout",
     "output_type": "stream",
     "text": [
      "root\n",
      " |-- lugar_ingreso: string (nullable = true)\n",
      " |-- transporte_internacional_de_ingreso: string (nullable = true)\n",
      " |-- fecha_ingreso: date (nullable = true)\n",
      " |-- fecha_egreso: date (nullable = true)\n",
      " |-- pais: string (nullable = true)\n",
      " |-- residencia: string (nullable = true)\n",
      " |-- motivo: string (nullable = true)\n",
      " |-- ocupacion: string (nullable = true)\n",
      " |-- estudio: string (nullable = true)\n",
      " |-- localidad: string (nullable = true)\n",
      " |-- departamento: string (nullable = true)\n",
      " |-- otro_departamento: string (nullable = true)\n",
      " |-- otra_localidad: string (nullable = true)\n",
      " |-- alojamiento: string (nullable = true)\n",
      " |-- transporte_local: string (nullable = true)\n",
      " |-- lugar_egreso: string (nullable = true)\n",
      " |-- transporte_internacional_de_egreso: string (nullable = true)\n",
      " |-- destino: string (nullable = true)\n",
      " |-- estadia: integer (nullable = true)\n",
      " |-- gente: integer (nullable = true)\n",
      " |-- gasto_total: double (nullable = true)\n",
      " |-- gasto_alojamiento: double (nullable = true)\n",
      " |-- gasto_alimentacion: double (nullable = true)\n",
      " |-- gasto_transporte: double (nullable = true)\n",
      " |-- gasto_cultural: double (nullable = true)\n",
      " |-- gasto_tours: double (nullable = true)\n",
      " |-- gasto_compras: double (nullable = true)\n",
      " |-- gasto_otros: double (nullable = true)\n",
      "\n"
     ]
    }
   ],
   "source": [
    "df_receptivo.printSchema()"
   ]
  },
  {
   "cell_type": "markdown",
   "id": "5e832655-dd55-4de1-8ea6-436f8d6f4fb1",
   "metadata": {},
   "source": [
    "# Emisivo\n",
    "Contiene los datos de personas que egresaron al país.\n",
    "\n",
    "Primero vamos a leer el archivo CSV que tenemos con los datos de Emisivo y creamos un dataframe llamado df_emisivo."
   ]
  },
  {
   "cell_type": "code",
   "execution_count": 21,
   "id": "2456e041-0710-4626-9aa1-feffec92936c",
   "metadata": {},
   "outputs": [
    {
     "name": "stderr",
     "output_type": "stream",
     "text": [
      "                                                                                \r"
     ]
    }
   ],
   "source": [
    "df_emisivo = spark.read.csv('../../obligatorio/lnd/emisivo', header=True, sep=',',inferSchema=True)"
   ]
  },
  {
   "cell_type": "markdown",
   "id": "d156f37f-6f32-4076-aaf9-1531d20d997d",
   "metadata": {},
   "source": [
    "Asi podemos visualizar los tipos de datos y columnas:"
   ]
  },
  {
   "cell_type": "code",
   "execution_count": 22,
   "id": "9ff4a535-d08b-4cf5-9b76-238105464b6a",
   "metadata": {},
   "outputs": [
    {
     "name": "stdout",
     "output_type": "stream",
     "text": [
      "root\n",
      " |-- IdLugarSalida: integer (nullable = true)\n",
      " |-- Lugar Salida: string (nullable = true)\n",
      " |-- IdTranspSalidad: integer (nullable = true)\n",
      " |-- Transporte Internacional de Salida: string (nullable = true)\n",
      " |-- FechaSalida: date (nullable = true)\n",
      " |-- IdFecSalida: integer (nullable = true)\n",
      " |-- FechaEntrada: date (nullable = true)\n",
      " |-- IdFecEntrada: integer (nullable = true)\n",
      " |-- IdNacionalidad: integer (nullable = true)\n",
      " |-- Pais: string (nullable = true)\n",
      " |-- IdDeptoResidencia: integer (nullable = true)\n",
      " |-- Departamento: string (nullable = true)\n",
      " |-- IdMotivo: integer (nullable = true)\n",
      " |-- Motivo: string (nullable = true)\n",
      " |-- IdOcupacion: integer (nullable = true)\n",
      " |-- Ocupacion: string (nullable = true)\n",
      " |-- IdNivelEstudio: integer (nullable = true)\n",
      " |-- Estudio: string (nullable = true)\n",
      " |-- IdDestino: integer (nullable = true)\n",
      " |-- Destino: string (nullable = true)\n",
      " |-- IdAlojamiento: integer (nullable = true)\n",
      " |-- Alojamiento: string (nullable = true)\n",
      " |-- IdLugarIngreso: integer (nullable = true)\n",
      " |-- Lugar Ingreso: string (nullable = true)\n",
      " |-- IdTranspIngreso: integer (nullable = true)\n",
      " |-- Transporte Internacional de Ingreso: string (nullable = true)\n",
      " |-- IdTranspLocal: integer (nullable = true)\n",
      " |-- Trasporte Local: string (nullable = true)\n",
      " |-- Estadia: integer (nullable = true)\n",
      " |-- Gente: integer (nullable = true)\n",
      " |-- GastoTotal: double (nullable = true)\n",
      " |-- GastoAlojamiento: double (nullable = true)\n",
      " |-- GastoAlimentacion: double (nullable = true)\n",
      " |-- GastoTransporteInternac: double (nullable = true)\n",
      " |-- GatoTransporteLocal: double (nullable = true)\n",
      " |-- GastoCultural: double (nullable = true)\n",
      " |-- GastoTours: double (nullable = true)\n",
      " |-- GastoCompras: double (nullable = true)\n",
      " |-- GastoResto: double (nullable = true)\n",
      " |-- Coef: double (nullable = true)\n",
      " |-- CoefTot: double (nullable = true)\n",
      "\n"
     ]
    }
   ],
   "source": [
    "df_emisivo.printSchema()"
   ]
  },
  {
   "cell_type": "markdown",
   "id": "058e2871-75c3-4c84-b6e8-2aec704bb095",
   "metadata": {},
   "source": [
    "### Descripción de las Columnas\n",
    "\n",
    "- \"Lugar Salida\" es el lugar y tiene su propio ID (IdLugarSalida).\n",
    "- \"Transporte Internacional de Salida\" es el medio de transporte internacional utilizado para la salida, con su propio ID (IdTranspSalidad).\n",
    "- \"FechaSalida\" del viaje, con su propio ID (IdFecSalida).\n",
    "- \"FechaEntrada\" al país, con su propio ID (IdFecEntrada).\n",
    "- \"Nacionalidad\" junto con el código que representa la nacionalidad del turista (IdNacionalidad).\n",
    "- \"Pais\" de destino del viaje.\n",
    "- \"Departamento\" con su propio ID (IdDeptoResidencia).\n",
    "- \"Motivo\" de ingreso al país, con su propio ID (IdMotivo).\n",
    "- \"Ocupacion\" (o profesión) del turista, con su propio ID (IdOcupacion).\n",
    "- \"Estudio\" es el nivel de estudio del turista, con su propio ID (IdNivelEstudio).\n",
    "- \"Destino\" dentro del país con su propio ID (IdDestino).\n",
    "- \"Alojamiento\" es el tipo de alojamiento utilizado, con su propio ID (IdAlojamiento).\n",
    "- \"Lugar Ingreso\" es el lugar por donde se ingresó al país, con su propio ID (IdLugarIngreso).\n",
    "- \"Transporte Internacional de Ingreso\" es el medio de transporte internacional utilizado para el ingreso, con su propio ID (IdTranspIngreso).\n",
    "- \"Transporte Local\" es el medio de transporte local utilizado, con su propio ID (IdTranspLocal).\n",
    "- \"Estadia\" es la cantidad de días de estadía.\n",
    "- \"Gente\" es el número de integrantes del grupo encuestado.\n",
    "- \"GastoTotal\", \"GastoAlojamiento\", \"GastoAlimentacion\", \"GastoTransporteInternacional\", \"GastoTransporteLocal\", \"GastoCultural\", \"GastoTours\", \"GastoCompras\" y \"GastoResto\" se refieren a los distintos tipos de gastos realizados, medido en dólares americanos corrientes.\n",
    "- \"Coef\" es el Coeficiente Expansión Gasto.\n",
    "- \"CoefTot\" es el Coeficiente Expansión Personas."
   ]
  },
  {
   "cell_type": "markdown",
   "id": "f2124c5c-716f-4e41-9a72-e0e9cfa9e00b",
   "metadata": {},
   "source": [
    "A continuación, eliminamos las columnas innecesarias, en particular los Id de cada columna y los coeficientes de expansión del gasto y de expansión de personas."
   ]
  },
  {
   "cell_type": "code",
   "execution_count": 23,
   "id": "9feded33-acba-411e-a270-973639508c3f",
   "metadata": {},
   "outputs": [],
   "source": [
    "df_emisivo = df_emisivo.drop(\n",
    "    \"IdLugarSalida\", \n",
    "    \"IdTranspSalidad\", \n",
    "    \"IdFecSalida\", \n",
    "    \"IdFecEntrada\", \n",
    "    \"IdNacionalidad\", \n",
    "    \"IdDeptoResidencia\", \n",
    "    \"IdMotivo\", \n",
    "    \"IdOcupacion\", \n",
    "    \"IdNivelEstudio\", \n",
    "    \"IdDestino\", \n",
    "    \"IdAlojamiento\", \n",
    "    \"IdLugarIngreso\", \n",
    "    \"IdTranspIngreso\", \n",
    "    \"IdTranspLocal\", \n",
    "    \"Coef\", \n",
    "    \"CoefTot\");"
   ]
  },
  {
   "cell_type": "code",
   "execution_count": 24,
   "id": "bf39373e-9ae5-4f70-95c4-626211a5dc42",
   "metadata": {},
   "outputs": [
    {
     "name": "stdout",
     "output_type": "stream",
     "text": [
      "root\n",
      " |-- Lugar Salida: string (nullable = true)\n",
      " |-- Transporte Internacional de Salida: string (nullable = true)\n",
      " |-- FechaSalida: date (nullable = true)\n",
      " |-- FechaEntrada: date (nullable = true)\n",
      " |-- Pais: string (nullable = true)\n",
      " |-- Departamento: string (nullable = true)\n",
      " |-- Motivo: string (nullable = true)\n",
      " |-- Ocupacion: string (nullable = true)\n",
      " |-- Estudio: string (nullable = true)\n",
      " |-- Destino: string (nullable = true)\n",
      " |-- Alojamiento: string (nullable = true)\n",
      " |-- Lugar Ingreso: string (nullable = true)\n",
      " |-- Transporte Internacional de Ingreso: string (nullable = true)\n",
      " |-- Trasporte Local: string (nullable = true)\n",
      " |-- Estadia: integer (nullable = true)\n",
      " |-- Gente: integer (nullable = true)\n",
      " |-- GastoTotal: double (nullable = true)\n",
      " |-- GastoAlojamiento: double (nullable = true)\n",
      " |-- GastoAlimentacion: double (nullable = true)\n",
      " |-- GastoTransporteInternac: double (nullable = true)\n",
      " |-- GatoTransporteLocal: double (nullable = true)\n",
      " |-- GastoCultural: double (nullable = true)\n",
      " |-- GastoTours: double (nullable = true)\n",
      " |-- GastoCompras: double (nullable = true)\n",
      " |-- GastoResto: double (nullable = true)\n",
      "\n"
     ]
    }
   ],
   "source": [
    "df_emisivo.printSchema()"
   ]
  },
  {
   "cell_type": "markdown",
   "id": "2ff1b7ea-31f7-46fd-b886-03d292f34421",
   "metadata": {},
   "source": [
    "Ahora pasamos a normalizar los nombres de los lugares por donde salieron los encuestados para que queden igual a las otras columnas de la tabla. Esto se debe a que en Lugar Salida los nombres de los lugares tenían tildes, pero en el resto de las columnas no. Se considera tanto mayúsculas como minúsculas."
   ]
  },
  {
   "cell_type": "code",
   "execution_count": 36,
   "id": "7e147e50-109f-48aa-beb9-1fe84c7d8674",
   "metadata": {},
   "outputs": [],
   "source": [
    "# Reemplazar tildes en la columna \"Lugar Salida\"\n",
    "df_emisivo = df_emisivo.withColumn(\n",
    "    \"Lugar Salida\",\n",
    "    F.regexp_replace(\"Lugar Salida\", \"Á\", \"A\")\n",
    ")\n",
    "\n",
    "df_emisivo = df_emisivo.withColumn(\n",
    "    \"Lugar Salida\",\n",
    "    F.regexp_replace(\"Lugar Salida\", \"É\", \"E\")\n",
    ")\n",
    "\n",
    "df_emisivo = df_emisivo.withColumn(\n",
    "    \"Lugar Salida\",\n",
    "    F.regexp_replace(\"Lugar Salida\", \"Í\", \"I\")\n",
    ")\n",
    "\n",
    "df_emisivo = df_emisivo.withColumn(\n",
    "    \"Lugar Salida\",\n",
    "    F.regexp_replace(\"Lugar Salida\", \"Ó\", \"O\")\n",
    ")\n",
    "\n",
    "df_emisivo = df_emisivo.withColumn(\n",
    "    \"Lugar Salida\",\n",
    "    F.regexp_replace(\"Lugar Salida\", \"Ú\", \"U\")\n",
    ")\n",
    "\n",
    "df_emisivo = df_emisivo.withColumn(\n",
    "    \"Lugar Salida\",\n",
    "    F.regexp_replace(\"Lugar Salida\", \"á\", \"a\")\n",
    ")\n",
    "\n",
    "df_emisivo = df_emisivo.withColumn(\n",
    "    \"Lugar Salida\",\n",
    "    F.regexp_replace(\"Lugar Salida\", \"é\", \"e\")\n",
    ")\n",
    "\n",
    "df_emisivo = df_emisivo.withColumn(\n",
    "    \"Lugar Salida\",\n",
    "    F.regexp_replace(\"Lugar Salida\", \"í\", \"i\")\n",
    ")\n",
    "\n",
    "df_emisivo = df_emisivo.withColumn(\n",
    "    \"Lugar Salida\",\n",
    "    F.regexp_replace(\"Lugar Salida\", \"ó\", \"o\")\n",
    ")\n",
    "\n",
    "df_emisivo = df_emisivo.withColumn(\n",
    "    \"Lugar Salida\",\n",
    "    F.regexp_replace(\"Lugar Salida\", \"ú\", \"u\")\n",
    ")"
   ]
  },
  {
   "cell_type": "markdown",
   "id": "4ae0af44-356b-4dce-817c-14819496f355",
   "metadata": {},
   "source": [
    "Se encontró un error de redacción en las columna de \"Departamento\" en cuanto a cómo estaba escrito \"San Jose\" y se los modificó para corregirlo."
   ]
  },
  {
   "cell_type": "code",
   "execution_count": 27,
   "id": "ba44544b-f84c-4605-9008-aae405a31f07",
   "metadata": {},
   "outputs": [],
   "source": [
    "df_emisivo = df_emisivo.withColumn(\n",
    "    \"departamento\",\n",
    "    F.when(F.col(\"departamento\") == \"Saqn Jose\", \"San Jose\")\n",
    "    .otherwise(F.col(\"departamento\"))\n",
    ")"
   ]
  },
  {
   "cell_type": "markdown",
   "id": "2858d77c-8789-40f1-aa8b-0ab1aec91d92",
   "metadata": {},
   "source": [
    "A continuación, en las columnas de \"Ocupación\", \"Estudio\" y \"Destino\", \"Trasporte Local\" y \"Alojamiento\" los datos que aparecen como \"Otros\", \"Sin Datos\" o como \"null\" los juntamos para que todos queden con en valor \"Otros\". \n",
    "También se modifica \"Ocupacion\" para agrupar aquellos que tenían asignado \"Otra situación Inactividad\" y \"Desocupado\" a que quede únicamente como \"Desocupado\". "
   ]
  },
  {
   "cell_type": "code",
   "execution_count": 29,
   "id": "d75be00a-7565-41fc-8a07-f2a5ddfafc9b",
   "metadata": {},
   "outputs": [],
   "source": [
    "df_emisivo = df_emisivo.withColumn(\n",
    "    \"Ocupacion\",\n",
    "    F.when(F.col(\"Ocupacion\").isin(\"Otros\", \"Sin Datos\", \"Desconocido / Sin Datos\"), \"Otros\")\n",
    "    .otherwise(F.col(\"Ocupacion\"))\n",
    ")\n",
    "\n",
    "df_emisivo = df_emisivo.withColumn(\n",
    "    \"Ocupacion\",\n",
    "    F.when(F.col(\"Ocupacion\").isin(\"Desocupado\", \"Otra situacion Inactividad\"), \"Otros\")\n",
    "    .otherwise(F.col(\"Ocupacion\"))\n",
    ")"
   ]
  },
  {
   "cell_type": "code",
   "execution_count": 30,
   "id": "f11df05c-68d6-44cf-b99f-989f042b0442",
   "metadata": {},
   "outputs": [],
   "source": [
    "df_emisivo = df_emisivo.withColumn(\n",
    "    \"Estudio\",\n",
    "    F.when(F.col(\"Estudio\").isin(\"Sin Datos\", \"Otros\"), \"Otros\")\n",
    "    .when(F.col(\"Estudio\").isNull(), \"Otros\") \n",
    "    .otherwise(F.col(\"Estudio\"))\n",
    ")"
   ]
  },
  {
   "cell_type": "code",
   "execution_count": 31,
   "id": "32dc67ef-3b5c-43ef-b77f-f5f920ecb142",
   "metadata": {},
   "outputs": [],
   "source": [
    "df_emisivo = df_emisivo.withColumn(\n",
    "    \"Destino\",\n",
    "    F.when(F.col(\"Destino\").isin(\"Sin Datos\", \"Otros\"), \"Otros\")\n",
    "    .otherwise(F.col(\"Destino\"))\n",
    ")"
   ]
  },
  {
   "cell_type": "code",
   "execution_count": 34,
   "id": "26861e73-0806-4ab1-8f4c-b19158c34209",
   "metadata": {},
   "outputs": [],
   "source": [
    "df_emisivo = df_emisivo.withColumn(\n",
    "    \"Trasporte Local\",\n",
    "    F.when(F.col(\"Trasporte Local\").isin(\"Sin Datos\", \"Otros\"), \"Otros\")\n",
    "    .otherwise(F.col(\"Trasporte Local\"))\n",
    ")"
   ]
  },
  {
   "cell_type": "code",
   "execution_count": 32,
   "id": "17ee577f-8938-4c8b-bf05-d51add42198b",
   "metadata": {},
   "outputs": [],
   "source": [
    "df_emisivo = df_emisivo.withColumn(\n",
    "    \"Alojamiento\",\n",
    "    F.when(F.col(\"Alojamiento\").isin(\"Sin Datos\", \"Otros\"), \"Otros\")\n",
    "    .otherwise(F.col(\"Alojamiento\"))\n",
    ")"
   ]
  },
  {
   "cell_type": "markdown",
   "id": "2b023f80-e20e-497f-b878-6f75e7dfeeea",
   "metadata": {},
   "source": [
    "Se encontró un error de redacción en las columnas de \"Alojamiento\" en cuanto a cómo estaba escrito \"Apart Hotel\" y se los modificó para corregirlo."
   ]
  },
  {
   "cell_type": "code",
   "execution_count": 33,
   "id": "1d41c48d-49f0-42a3-9023-d4d473f44c07",
   "metadata": {},
   "outputs": [],
   "source": [
    "df_emisivo = df_emisivo.withColumn(\n",
    "    \"Alojamiento\",\n",
    "    F.when(F.col(\"Alojamiento\") == \"Appart Hotel\", \"Apart Hotel\")\n",
    "    .otherwise(F.col(\"Alojamiento\"))\n",
    ")"
   ]
  },
  {
   "cell_type": "markdown",
   "id": "a3fbd75f-9f70-4e04-bafe-d6e6da7a14e8",
   "metadata": {},
   "source": [
    "En la columna \"Motivo\" se renombro algunos de los valores para que queden igual redactados a como están escritos en la columna de \"Motivo\" en Receptivo."
   ]
  },
  {
   "cell_type": "code",
   "execution_count": 37,
   "id": "2da36d6b-b9e7-4900-a5e9-70208528d4e9",
   "metadata": {},
   "outputs": [],
   "source": [
    "df_emisivo = df_emisivo.withColumn(\n",
    "    \"Motivo\",\n",
    "    F.when(F.col(\"Motivo\") == \"Trabajo / Profesion\", \"Trabajo\")\n",
    "    .when(F.col(\"Motivo\") == \"Trabajo remunerado Destino\", \"Trabajo\")\n",
    "    .when(F.col(\"Motivo\") == \"Ocio, Recreo, Vacaciones\", \"Ocio / Vacaciones\")\n",
    "    .when(F.col(\"Motivo\") == \"Tratamiento Salud\", \"Salud\")\n",
    "    .when(F.col(\"Motivo\") == \"Religion y Peregrinaciones\", \"Religion\")\n",
    "    .when(F.col(\"Motivo\") == \"Deportivo\", \"Deporte\")\n",
    "    .otherwise(F.col(\"Motivo\"))\n",
    ")"
   ]
  },
  {
   "cell_type": "markdown",
   "id": "53e29951-696d-4949-b72a-b6fb6699ff39",
   "metadata": {},
   "source": [
    "Se renombro la columna \"GastoResto\" para que coincida con el mismo nombre que tiene en Receptivo, este siendo \"GastoOtros\"."
   ]
  },
  {
   "cell_type": "markdown",
   "id": "b6b2cf7e-bd1c-425b-93db-f75c332da849",
   "metadata": {},
   "source": [
    "A continuación, se trabajará con las columnas de gastos. El objetivo principal es verificar que los gastos registrados en estas columnas coincidan con el valor indicado como el total de gastos (en GastoTotal).\n",
    "\n",
    "Primero, se calcula la suma de todos los tipos de gastos (alojamiento, transporte, etc.) y luego se compara con el valor registrado en la columna GastoTotal. Si la suma de los gastos calculada resulta menor que el valor de GastoTotal, se registra la diferencia en la columna GastosOtros. Por el contrario, si la suma de los gastos es mayor que el valor de GastoTotal, se actualiza esta última columna con el valor obtenido en la suma."
   ]
  },
  {
   "cell_type": "code",
   "execution_count": 3,
   "id": "22197cf4-babf-42a7-ae63-363e346db2c9",
   "metadata": {},
   "outputs": [
    {
     "ename": "NameError",
     "evalue": "name 'df_emisivo' is not defined",
     "output_type": "error",
     "traceback": [
      "\u001b[0;31m---------------------------------------------------------------------------\u001b[0m",
      "\u001b[0;31mNameError\u001b[0m                                 Traceback (most recent call last)",
      "Cell \u001b[0;32mIn[3], line 1\u001b[0m\n\u001b[0;32m----> 1\u001b[0m df_emisivo \u001b[38;5;241m=\u001b[39m \u001b[43mdf_emisivo\u001b[49m\u001b[38;5;241m.\u001b[39mwithColumnRenamed(\u001b[38;5;124m\"\u001b[39m\u001b[38;5;124mGastoResto\u001b[39m\u001b[38;5;124m\"\u001b[39m, \u001b[38;5;124m\"\u001b[39m\u001b[38;5;124mGastoOtros\u001b[39m\u001b[38;5;124m\"\u001b[39m)\n\u001b[1;32m      2\u001b[0m df_emisivo \u001b[38;5;241m=\u001b[39m df_emisivo\u001b[38;5;241m.\u001b[39mwithColumnRenamed(\u001b[38;5;124m\"\u001b[39m\u001b[38;5;124mGatoTransporteLocal\u001b[39m\u001b[38;5;124m\"\u001b[39m, \u001b[38;5;124m\"\u001b[39m\u001b[38;5;124mGastoTransporteLocal\u001b[39m\u001b[38;5;124m\"\u001b[39m)\n\u001b[1;32m      4\u001b[0m \u001b[38;5;66;03m# Crear una nueva columna que calcule la suma de los otros gastos\u001b[39;00m\n",
      "\u001b[0;31mNameError\u001b[0m: name 'df_emisivo' is not defined"
     ]
    }
   ],
   "source": [
    "df_emisivo = df_emisivo.withColumnRenamed(\"GastoResto\", \"GastoOtros\")\n",
    "df_emisivo = df_emisivo.withColumnRenamed(\"GatoTransporteLocal\", \"GastoTransporteLocal\")\n",
    "\n",
    "# Crear una nueva columna que calcule la suma de los otros gastos\n",
    "df_emisivo = df_emisivo.withColumn(\n",
    "    \"SumaGastos\",\n",
    "    F.col(\"GastoAlojamiento\") + F.col(\"GastoAlimentacion\") + F.col(\"GastoTransporteInternac\") + F.col(\"GastoTransporteLocal\") + F.col(\"GastoCultural\") + F.col(\"GastoTours\") + F.col(\"GastoCompras\") + F.col(\"GastoOtros\")\n",
    ")\n",
    "\n",
    "# Cuando GastoTotal es mayor que SumaGastos, agregar la diferencia a GastoOtros\n",
    "df_emisivo = df_emisivo.withColumn(\n",
    "    \"GastoOtros\",\n",
    "    F.when(F.col(\"GastoTotal\") > F.col(\"SumaGastos\"), F.col(\"GastoOtros\") + (F.col(\"GastoTotal\") - F.col(\"SumaGastos\")))\n",
    "    .otherwise(F.col(\"GastoOtros\"))\n",
    ")\n",
    "\n",
    "# Cuando SumaGastos es mayor que GastoTotal, actualizar GastoTotal con el valor de SumaGastos\n",
    "df_emisivo = df_emisivo.withColumn(\n",
    "    \"GastoTotal\",\n",
    "    F.when(F.col(\"SumaGastos\") > F.col(\"GastoTotal\"), F.col(\"SumaGastos\"))\n",
    "    .otherwise(F.col(\"GastoTotal\"))\n",
    ")\n",
    "\n",
    "df_emisivo = df_emisivo.drop(\"SumaGastos\");"
   ]
  },
  {
   "cell_type": "markdown",
   "id": "7dc092ce-a764-46a0-8c21-bd704964326f",
   "metadata": {},
   "source": [
    "Por último, renombramos las columnas para facilitar el uso de las mismas para cuando se trabaje con Hive."
   ]
  },
  {
   "cell_type": "code",
   "execution_count": 38,
   "id": "d6e9540d-aced-4140-b679-952141c54716",
   "metadata": {},
   "outputs": [],
   "source": [
    "column_mapping = {\n",
    "    \"Lugar Salida\": \"lugar_salida\",\n",
    "    \"Transporte Internacional de Salida\": \"transporte_internacional_de_salida\",\n",
    "    \"FechaSalida\": \"fecha_salida\",\n",
    "    \"FechaEntrada\": \"fecha_entrada\",\n",
    "    \"Pais\": \"pais\",\n",
    "    \"departamento\": \"departamento\",\n",
    "    \"Motivo\": \"motivo\",\n",
    "    \"Ocupacion\": \"ocupacion\",\n",
    "    \"Estudio\": \"estudio\",\n",
    "    \"Destino\": \"destino\",\n",
    "    \"Alojamiento\": \"alojamiento\",\n",
    "    \"Lugar Ingreso\": \"lugar_ingreso\",\n",
    "    \"Transporte Internacional de Ingreso\": \"transporte_internacional_de_ingreso\",\n",
    "    \"Trasporte Local\": \"transporte_local\",\n",
    "    \"Estadia\": \"estadia\",\n",
    "    \"Gente\": \"gente\",\n",
    "    \"GastoTotal\": \"gasto_total\",\n",
    "    \"GastoAlojamiento\": \"gasto_alojamiento\",\n",
    "    \"GastoAlimentacion\": \"gasto_alimentacion\",\n",
    "    \"GastoTransporteInternac\": \"gasto_transporte_internacional\",\n",
    "    \"GastoTransporteLocal\": \"gasto_transporte_local\",\n",
    "    \"GastoCultural\": \"gasto_cultural\",\n",
    "    \"GastoTours\": \"gasto_tours\",\n",
    "    \"GastoCompras\": \"gasto_compras\",\n",
    "    \"GastoOtros\": \"gasto_otros\"\n",
    "}\n",
    "\n",
    "for old_name, new_name in column_mapping.items():\n",
    "    df_emisivo = df_emisivo.withColumnRenamed(old_name, new_name)"
   ]
  },
  {
   "cell_type": "code",
   "execution_count": 39,
   "id": "1007437a-c702-41a5-95d8-7ec74b8a1025",
   "metadata": {},
   "outputs": [
    {
     "name": "stdout",
     "output_type": "stream",
     "text": [
      "root\n",
      " |-- lugar_salida: string (nullable = true)\n",
      " |-- transporte_internacional_de_salida: string (nullable = true)\n",
      " |-- fecha_salida: date (nullable = true)\n",
      " |-- fecha_entrada: date (nullable = true)\n",
      " |-- pais: string (nullable = true)\n",
      " |-- departamento: string (nullable = true)\n",
      " |-- motivo: string (nullable = true)\n",
      " |-- ocupacion: string (nullable = true)\n",
      " |-- estudio: string (nullable = true)\n",
      " |-- destino: string (nullable = true)\n",
      " |-- alojamiento: string (nullable = true)\n",
      " |-- lugar_ingreso: string (nullable = true)\n",
      " |-- transporte_internacional_de_ingreso: string (nullable = true)\n",
      " |-- transporte_local: string (nullable = true)\n",
      " |-- estadia: integer (nullable = true)\n",
      " |-- gente: integer (nullable = true)\n",
      " |-- gasto_total: double (nullable = true)\n",
      " |-- gasto_alojamiento: double (nullable = true)\n",
      " |-- gasto_alimentacion: double (nullable = true)\n",
      " |-- gasto_transporte_internacional: double (nullable = true)\n",
      " |-- gasto_transporte_local: double (nullable = true)\n",
      " |-- gasto_cultural: double (nullable = true)\n",
      " |-- gasto_tours: double (nullable = true)\n",
      " |-- gasto_compras: double (nullable = true)\n",
      " |-- gasto_otros: double (nullable = true)\n",
      "\n"
     ]
    }
   ],
   "source": [
    "df_emisivo.printSchema()"
   ]
  },
  {
   "cell_type": "markdown",
   "id": "f00d1ef3-d4aa-4ac7-8864-b50e2d6f96b4",
   "metadata": {},
   "source": [
    "# Cruceros\n",
    "Contiene los datos de tráfico de cruceros.\n",
    "\n",
    "Primero vamos a leer el archivo CSV que tenemos con los datos de Cruceros y creamos un dataframe llamado df_crucero."
   ]
  },
  {
   "cell_type": "code",
   "execution_count": 40,
   "id": "b0a78318-1ac8-446b-bb4c-da27bdb90e12",
   "metadata": {},
   "outputs": [],
   "source": [
    "df_crucero = spark.read.csv('../../obligatorio/lnd/cruceros', header=True, sep=',',inferSchema=True)"
   ]
  },
  {
   "cell_type": "markdown",
   "id": "2b6e549c-8f08-4eba-99c7-cbbbc8eaa1a5",
   "metadata": {},
   "source": [
    "Asi podemos visualizar los tipos de datos y columnas:"
   ]
  },
  {
   "cell_type": "code",
   "execution_count": 41,
   "id": "c93d7869-a5d8-4cc3-96e7-9e289ad29b4a",
   "metadata": {},
   "outputs": [
    {
     "name": "stdout",
     "output_type": "stream",
     "text": [
      "root\n",
      " |-- IdCruceros: integer (nullable = true)\n",
      " |-- idNacionalidad: integer (nullable = true)\n",
      " |-- Pais: string (nullable = true)\n",
      " |-- Fecha: date (nullable = true)\n",
      " |-- idfecha: integer (nullable = true)\n",
      " |-- idPuerto: integer (nullable = true)\n",
      " |-- Puerto: string (nullable = true)\n",
      " |-- TotalPersonas: integer (nullable = true)\n",
      " |-- CantidadVisitas: integer (nullable = true)\n",
      " |-- GastoTotal: double (nullable = true)\n",
      " |-- GastoTours: double (nullable = true)\n",
      " |-- GastoAlimentacion: double (nullable = true)\n",
      " |-- GastoTransporte: double (nullable = true)\n",
      " |-- GastoShopping: double (nullable = true)\n",
      " |-- GastoOtros: double (nullable = true)\n",
      "\n"
     ]
    }
   ],
   "source": [
    "df_crucero.printSchema()"
   ]
  },
  {
   "cell_type": "markdown",
   "id": "a20a372a-869e-4a47-b3f9-d6ab2e71e488",
   "metadata": {},
   "source": [
    "### Descripción de las Columnas\n",
    "\n",
    "- \"IdCruceros\" es el código identificatorio de los cruceros.\n",
    "- \"Pais\" corresponde a la nacionalidad del entrevistado y tiene su propio ID (idNacionalidad).\n",
    "- \"Fecha\" indica cuándo se realizó la encuesta y tiene un ID (idfecha).\n",
    "- \"Puerto\" es el puerto de arribo del crucerista con su ID (idPuerto).\n",
    "- \"TotalPersonas\" indica la cantidad de personas en cada grupo.\n",
    "- \"Cantidad Visitas\" representa el número de visitas anteriores del crucerista.\n",
    "- \"GastoTotal\", \"GastoTours\", \"GastoAlimentacion\", \"GastoTransporte\", \"GastoShopping\", \"GastoOtros\" corresponde a todos los tipos de gastos realizados y su valor en dólares americanos."
   ]
  },
  {
   "cell_type": "markdown",
   "id": "fec877bf-f0f0-4c31-be80-175fbc98b526",
   "metadata": {},
   "source": [
    "A continuación, en la columna de \"CantidadVisitas\" nos aseguramos que los valores que estaban en \"null\" queden en 0."
   ]
  },
  {
   "cell_type": "code",
   "execution_count": 43,
   "id": "93d9e9de-7cee-4d61-b659-5d5061d775e7",
   "metadata": {},
   "outputs": [],
   "source": [
    "df_crucero = df_crucero.fillna({'CantidadVisitas': 0})\n"
   ]
  },
  {
   "cell_type": "markdown",
   "id": "f1d38f83-d8aa-422b-a813-1a96e8498378",
   "metadata": {},
   "source": [
    "Eliminamos las columnas innecesarias, en particular los Id de cada columna."
   ]
  },
  {
   "cell_type": "code",
   "execution_count": 45,
   "id": "0ba9c848-993b-4591-a365-9169fe9546c9",
   "metadata": {},
   "outputs": [],
   "source": [
    "df_crucero = df_crucero.drop(\"idNacionalidad\", \"idPuerto\", \"idFecha\");"
   ]
  },
  {
   "cell_type": "code",
   "execution_count": 46,
   "id": "aaf9e8a9-2b1e-4ae1-950e-9b5ffd8f49fa",
   "metadata": {},
   "outputs": [
    {
     "name": "stdout",
     "output_type": "stream",
     "text": [
      "root\n",
      " |-- IdCruceros: integer (nullable = true)\n",
      " |-- Pais: string (nullable = true)\n",
      " |-- Fecha: date (nullable = true)\n",
      " |-- Puerto: string (nullable = true)\n",
      " |-- TotalPersonas: integer (nullable = true)\n",
      " |-- CantidadVisitas: integer (nullable = false)\n",
      " |-- GastoTotal: double (nullable = true)\n",
      " |-- GastoTours: double (nullable = true)\n",
      " |-- GastoAlimentacion: double (nullable = true)\n",
      " |-- GastoTransporte: double (nullable = true)\n",
      " |-- GastoShopping: double (nullable = true)\n",
      " |-- GastoOtros: double (nullable = true)\n",
      "\n"
     ]
    }
   ],
   "source": [
    "df_crucero.printSchema()"
   ]
  },
  {
   "cell_type": "markdown",
   "id": "10b6a616-c5bf-44b0-89e6-135257101ae9",
   "metadata": {},
   "source": [
    "A continuación, se trabajará con las columnas de gastos. El objetivo principal es verificar que los gastos registrados en estas columnas coincidan con el valor indicado como el total de gastos (en GastoTotal).\n",
    "\n",
    "Primero, se calcula la suma de todos los tipos de gastos (tours, transporte, etc.) y luego se compara con el valor registrado en la columna GastoTotal. Si la suma de los gastos calculada resulta menor que el valor de GastoTotal, se registra la diferencia en la columna GastosOtros. Por el contrario, si la suma de los gastos es mayor que el valor de GastoTotal, se actualiza esta última columna con el valor obtenido en la suma."
   ]
  },
  {
   "cell_type": "code",
   "execution_count": 47,
   "id": "c3e8a3da-6f33-4076-861f-6e1d8395f536",
   "metadata": {},
   "outputs": [],
   "source": [
    "# Crear una nueva columna que calcule la suma de los otros gastos\n",
    "df_crucero = df_crucero.withColumn(\n",
    "    \"SumaGastos\",\n",
    "    F.col(\"GastoTours\") + F.col(\"GastoAlimentacion\") + F.col(\"GastoTransporte\") + F.col(\"GastoShopping\") + F.col(\"GastoOtros\")\n",
    ")\n",
    "\n",
    "# Cuando GastoTotal es mayor que SumaGastos, agregar la diferencia a GastoOtros\n",
    "df_crucero = df_crucero.withColumn(\n",
    "    \"GastoOtros\",\n",
    "    F.when(F.col(\"GastoTotal\") > F.col(\"SumaGastos\"), F.col(\"GastoOtros\") + (F.col(\"GastoTotal\") - F.col(\"SumaGastos\")))\n",
    "    .otherwise(F.col(\"GastoOtros\"))\n",
    ")\n",
    "\n",
    "# Cuando SumaGastos es mayor que GastoTotal, actualizar GastoTotal con el valor de SumaGastos\n",
    "df_crucero = df_crucero.withColumn(\n",
    "    \"GastoTotal\",\n",
    "    F.when(F.col(\"SumaGastos\") > F.col(\"GastoTotal\"), F.col(\"SumaGastos\"))\n",
    "    .otherwise(F.col(\"GastoTotal\"))\n",
    ")\n",
    "\n",
    "df_crucero = df_crucero.drop(\"SumaGastos\");"
   ]
  },
  {
   "cell_type": "markdown",
   "id": "b5f5cfa2-30fc-44ad-a9b1-135a1f33ddf0",
   "metadata": {},
   "source": [
    "Por último, renombramos las columnas para facilitar el uso de las mismas para cuando se trabaje con Hive."
   ]
  },
  {
   "cell_type": "code",
   "execution_count": 49,
   "id": "9d9f8735-833b-4043-87ac-151dd8420a86",
   "metadata": {},
   "outputs": [],
   "source": [
    "column_mapping = {\n",
    "    \"IdCruceros\": \"id_cruceros\",\n",
    "    \"Pais\": \"pais\",\n",
    "    \"Fecha\": \"fecha\",\n",
    "    \"Puerto\": \"puerto\",\n",
    "    \"TotalPersonas\": \"total_personas\",\n",
    "    \"CantidadVisitas\": \"cantidad_visitas\",\n",
    "    \"GastoTotal\": \"gasto_total\",\n",
    "    \"GastoTours\": \"gasto_tours\",\n",
    "    \"GastoAlimentacion\": \"gasto_alimentacion\",\n",
    "    \"GastoTransporte\": \"gasto_transporte\",\n",
    "    \"GastoShopping\": \"gasto_compras\",\n",
    "    \"GastoOtros\": \"gasto_otros\"\n",
    "}\n",
    "\n",
    "for old_name, new_name in column_mapping.items():\n",
    "    df_crucero = df_crucero.withColumnRenamed(old_name, new_name)"
   ]
  },
  {
   "cell_type": "code",
   "execution_count": 50,
   "id": "9c0312db-5706-4648-8606-3d8b215bb985",
   "metadata": {},
   "outputs": [
    {
     "name": "stdout",
     "output_type": "stream",
     "text": [
      "root\n",
      " |-- id_cruceros: integer (nullable = true)\n",
      " |-- pais: string (nullable = true)\n",
      " |-- fecha: date (nullable = true)\n",
      " |-- puerto: string (nullable = true)\n",
      " |-- total_personas: integer (nullable = true)\n",
      " |-- cantidad_visitas: integer (nullable = false)\n",
      " |-- gasto_total: double (nullable = true)\n",
      " |-- gasto_tours: double (nullable = true)\n",
      " |-- gasto_alimentacion: double (nullable = true)\n",
      " |-- gasto_transporte: double (nullable = true)\n",
      " |-- gasto_compras: double (nullable = true)\n",
      " |-- gasto_otros: double (nullable = true)\n",
      "\n"
     ]
    }
   ],
   "source": [
    "df_crucero.printSchema()"
   ]
  },
  {
   "cell_type": "markdown",
   "id": "1b79a960-685d-4b35-805b-2101a14f6d6f",
   "metadata": {},
   "source": [
    "# Paises\n",
    "Contiene los mappeos de paises a el nombre en inglés y su continente.\n",
    "\n",
    "Primero vamos a leer el archivo CSV que tenemos con los datos de Paises y creamos un dataframe llamado df_paises."
   ]
  },
  {
   "cell_type": "code",
   "execution_count": 51,
   "id": "4003ee67-7d25-4a65-9f6b-f5224830bd64",
   "metadata": {},
   "outputs": [],
   "source": [
    "df_paises = spark.read.csv('../../obligatorio/lnd/paises', header=True, sep=',',inferSchema=True)"
   ]
  },
  {
   "cell_type": "markdown",
   "id": "c49328f5-dd87-442e-a5cc-8631debb466b",
   "metadata": {},
   "source": [
    "Por último, renombramos las columnas para facilitar el uso de las mismas para cuando se trabaje con Hive."
   ]
  },
  {
   "cell_type": "code",
   "execution_count": 52,
   "id": "b5f9ca33-90bf-4fd8-a6ab-da0488abc094",
   "metadata": {},
   "outputs": [],
   "source": [
    "column_mapping = {\n",
    "    \"Pais\": \"pais\",\n",
    "    \"IdPais\": \"id_pais\",\n",
    "    \"Continente\": \"continente\",\n",
    "    \"PaisesIngles\": \"paises_ingles\"\n",
    "}\n",
    "\n",
    "for old_name, new_name in column_mapping.items():\n",
    "    df_paises = df_paises.withColumnRenamed(old_name, new_name)"
   ]
  },
  {
   "cell_type": "code",
   "execution_count": 53,
   "id": "bb949da4-bb06-46f8-9391-dfe15cf70152",
   "metadata": {},
   "outputs": [
    {
     "name": "stdout",
     "output_type": "stream",
     "text": [
      "root\n",
      " |-- pais: string (nullable = true)\n",
      " |-- id_pais: integer (nullable = true)\n",
      " |-- continente: string (nullable = true)\n",
      " |-- paises_ingles: string (nullable = true)\n",
      " |-- Code: string (nullable = true)\n",
      "\n"
     ]
    }
   ],
   "source": [
    "df_paises.printSchema()"
   ]
  },
  {
   "cell_type": "markdown",
   "id": "0c1131a2-823b-4166-938e-dbe4dde0b498",
   "metadata": {},
   "source": [
    "## Guardar los data frames en rfn"
   ]
  },
  {
   "cell_type": "markdown",
   "id": "d5491f6e-ca68-4325-b392-d7b58f8cc700",
   "metadata": {},
   "source": [
    "Guardamos los datos en nuestra carpeta rfn, acá es donde se cambia que el separador pase de \",\" a \"|\"."
   ]
  },
  {
   "cell_type": "code",
   "execution_count": 54,
   "id": "6ba36b06-b357-4051-8cff-293165bce21d",
   "metadata": {
    "collapsed": true,
    "jupyter": {
     "outputs_hidden": true
    }
   },
   "outputs": [
    {
     "name": "stdout",
     "output_type": "stream",
     "text": [
      "2024-12-07T21:59:30,197 WARN [Thread-4] org.apache.spark.sql.catalyst.util.package - Truncated the string representation of a plan since it was too large. This behavior can be adjusted by setting 'spark.sql.debug.maxToStringFields'.\n"
     ]
    },
    {
     "name": "stderr",
     "output_type": "stream",
     "text": [
      "                                                                                \r"
     ]
    }
   ],
   "source": [
    "df_receptivo.write \\\n",
    "    .mode(\"overwrite\") \\\n",
    "    .option(\"delimiter\", \"|\") \\\n",
    "    .option(\"header\", \"false\") \\\n",
    "    .csv(\"/obligatorio/rfn/receptivo\")"
   ]
  },
  {
   "cell_type": "code",
   "execution_count": 55,
   "id": "cb9edbf9-3d64-45e2-a0b3-b3caffbd0f1d",
   "metadata": {},
   "outputs": [
    {
     "name": "stderr",
     "output_type": "stream",
     "text": [
      "                                                                                \r"
     ]
    }
   ],
   "source": [
    "df_emisivo.write \\\n",
    "    .mode(\"overwrite\") \\\n",
    "    .option(\"delimiter\", \"|\") \\\n",
    "    .option(\"header\", \"false\") \\\n",
    "    .csv(\"/obligatorio/rfn/emisivo\")"
   ]
  },
  {
   "cell_type": "code",
   "execution_count": 57,
   "id": "cb818625-7cd2-4d07-bb2a-fca955d991e5",
   "metadata": {},
   "outputs": [],
   "source": [
    "df_crucero.write \\\n",
    "    .mode(\"overwrite\") \\\n",
    "    .option(\"delimiter\", \"|\") \\\n",
    "    .option(\"header\", \"false\") \\\n",
    "    .csv(\"/obligatorio/rfn/cruceros\")"
   ]
  },
  {
   "cell_type": "code",
   "execution_count": 58,
   "id": "21e84f8c-fc58-4a3c-9052-d8d93b297fd3",
   "metadata": {},
   "outputs": [],
   "source": [
    "df_paises.write \\\n",
    "    .mode(\"overwrite\") \\\n",
    "    .option(\"delimiter\", \"|\") \\\n",
    "    .option(\"header\", \"false\") \\\n",
    "    .csv(\"/obligatorio/rfn/paises\")"
   ]
  },
  {
   "cell_type": "markdown",
   "id": "edc4d9c1-3140-4505-99e1-c9edf9de5ad4",
   "metadata": {},
   "source": [
    "## Mover los archivos de lnd a raw"
   ]
  },
  {
   "cell_type": "markdown",
   "id": "b2e7da1a-26fd-4fd4-a484-607f4ca9ce9d",
   "metadata": {},
   "source": [
    "A continuación, se mueven los archivos que estaban en lnd a raw."
   ]
  },
  {
   "cell_type": "code",
   "execution_count": 66,
   "id": "dd454f41-f9bc-4f48-aca9-15edb7b5792b",
   "metadata": {},
   "outputs": [],
   "source": [
    "hadoop_conf = spark._jsc.hadoopConfiguration()"
   ]
  },
  {
   "cell_type": "code",
   "execution_count": 67,
   "id": "7a410018-262c-4133-ac2f-06c62cbb586b",
   "metadata": {},
   "outputs": [],
   "source": [
    "fs = spark._jvm.org.apache.hadoop.fs.FileSystem.get(hadoop_conf)"
   ]
  },
  {
   "cell_type": "code",
   "execution_count": 57,
   "id": "c080ccf0-1d94-4f33-b463-473f55896f51",
   "metadata": {},
   "outputs": [
    {
     "data": {
      "text/plain": [
       "True"
      ]
     },
     "execution_count": 57,
     "metadata": {},
     "output_type": "execute_result"
    }
   ],
   "source": [
    "ruta_origen_receptivo = \"/obligatorio/lnd/receptivo\"\n",
    "ruta_destino_receptivo = \"/obligatorio/raw/receptivo\"\n",
    "\n",
    "# Mover el archivo de lnd a raw\n",
    "origen_path = spark._jvm.org.apache.hadoop.fs.Path(ruta_origen_receptivo)\n",
    "destino_path = spark._jvm.org.apache.hadoop.fs.Path(ruta_destino_receptivo)\n",
    "\n",
    "if fs.exists(destino_path):\n",
    "    fs.delete(destino_path, True)\n",
    "\n",
    "fs.rename(origen_path, destino_path)"
   ]
  },
  {
   "cell_type": "code",
   "execution_count": 58,
   "id": "e21565f1-366f-4e01-a552-67e47dda7330",
   "metadata": {},
   "outputs": [
    {
     "data": {
      "text/plain": [
       "True"
      ]
     },
     "execution_count": 58,
     "metadata": {},
     "output_type": "execute_result"
    }
   ],
   "source": [
    "ruta_origen_emisivo = \"/obligatorio/lnd/emisivo\"\n",
    "ruta_destino_emisivo = \"/obligatorio/raw/emisivo\"\n",
    "\n",
    "# Mover el archivo de lnd a raw\n",
    "origen_path = spark._jvm.org.apache.hadoop.fs.Path(ruta_origen_emisivo)\n",
    "destino_path = spark._jvm.org.apache.hadoop.fs.Path(ruta_destino_emisivo)\n",
    "\n",
    "if fs.exists(destino_path):\n",
    "    fs.delete(destino_path, True)\n",
    "\n",
    "fs.rename(origen_path, destino_path)"
   ]
  },
  {
   "cell_type": "code",
   "execution_count": 59,
   "id": "4711784b-ca2d-4b5b-a7de-4eed18ed014f",
   "metadata": {},
   "outputs": [
    {
     "data": {
      "text/plain": [
       "True"
      ]
     },
     "execution_count": 59,
     "metadata": {},
     "output_type": "execute_result"
    }
   ],
   "source": [
    "ruta_origen_cruceros = \"/obligatorio/lnd/cruceros\"\n",
    "ruta_destino_cruceros = \"/obligatorio/raw/cruceros\"\n",
    "\n",
    "# Mover el archivo de lnd a raw\n",
    "origen_path = spark._jvm.org.apache.hadoop.fs.Path(ruta_origen_cruceros)\n",
    "destino_path = spark._jvm.org.apache.hadoop.fs.Path(ruta_destino_cruceros)\n",
    "\n",
    "if fs.exists(destino_path):\n",
    "    fs.delete(destino_path, True)\n",
    "\n",
    "fs.rename(origen_path, destino_path)"
   ]
  },
  {
   "cell_type": "code",
   "execution_count": 68,
   "id": "fc882255-fc70-4cf9-8efa-d934c42c9a6c",
   "metadata": {},
   "outputs": [
    {
     "data": {
      "text/plain": [
       "True"
      ]
     },
     "execution_count": 68,
     "metadata": {},
     "output_type": "execute_result"
    }
   ],
   "source": [
    "ruta_origen_paises = \"/obligatorio/lnd/paises\"\n",
    "ruta_destino_paises = \"/obligatorio/raw/paises\"\n",
    "\n",
    "# Mover el archivo de lnd a raw\n",
    "origen_path = spark._jvm.org.apache.hadoop.fs.Path(ruta_origen_paises)\n",
    "destino_path = spark._jvm.org.apache.hadoop.fs.Path(ruta_destino_paises)\n",
    "\n",
    "if fs.exists(destino_path):\n",
    "    fs.delete(destino_path, True)\n",
    "\n",
    "fs.rename(origen_path, destino_path)"
   ]
  }
 ],
 "metadata": {
  "kernelspec": {
   "display_name": "Python 3 (ipykernel)",
   "language": "python",
   "name": "python3"
  },
  "language_info": {
   "codemirror_mode": {
    "name": "ipython",
    "version": 3
   },
   "file_extension": ".py",
   "mimetype": "text/x-python",
   "name": "python",
   "nbconvert_exporter": "python",
   "pygments_lexer": "ipython3",
   "version": "3.8.8"
  }
 },
 "nbformat": 4,
 "nbformat_minor": 5
}
