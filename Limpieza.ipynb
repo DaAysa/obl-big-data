{
 "cells": [
  {
   "cell_type": "code",
   "execution_count": 4,
   "id": "425232c3-24f2-4df2-b3d1-907c2639e481",
   "metadata": {},
   "outputs": [
    {
     "name": "stderr",
     "output_type": "stream",
     "text": [
      "Setting default log level to \"WARN\".\n",
      "To adjust logging level use sc.setLogLevel(newLevel). For SparkR, use setLogLevel(newLevel).\n"
     ]
    },
    {
     "name": "stdout",
     "output_type": "stream",
     "text": [
      "2024-11-10T21:16:01,172 WARN [Thread-4] org.apache.hadoop.util.NativeCodeLoader - Unable to load native-hadoop library for your platform... using builtin-java classes where applicable\n",
      "2024-11-10T21:16:02,722 WARN [Thread-4] org.apache.spark.util.Utils - Service 'SparkUI' could not bind on port 4040. Attempting port 4041.\n"
     ]
    }
   ],
   "source": [
    "from pyspark.sql import SparkSession\n",
    "\n",
    "from pyspark.sql.functions import *\n",
    "from pyspark.sql.types import *\n",
    "\n",
    "spark = SparkSession \\\n",
    "    .builder \\\n",
    "    .appName(\"limpieza\") \\\n",
    "    .getOrCreate()"
   ]
  },
  {
   "cell_type": "markdown",
   "id": "99e510ae-5981-4456-8b54-1fab157212d8",
   "metadata": {},
   "source": [
    "<h1>Receptivo</h1>\n",
    "Contiene los datos de ingreso al país"
   ]
  },
  {
   "cell_type": "code",
   "execution_count": 8,
   "id": "651bc567-cfa2-45f4-9aef-f824c8e1c3d3",
   "metadata": {},
   "outputs": [
    {
     "name": "stderr",
     "output_type": "stream",
     "text": [
      "                                                                                \r"
     ]
    }
   ],
   "source": [
    "df_receptivo = spark.read.csv('../../obligatorio/lnd/receptivo', header=True, sep=',',inferSchema=True)"
   ]
  },
  {
   "cell_type": "markdown",
   "id": "9718598a-b5dd-48ca-b1aa-ab4ba1d43eac",
   "metadata": {},
   "source": [
    "Asi podemos visualizar los tipos de datos y columnas"
   ]
  },
  {
   "cell_type": "code",
   "execution_count": 9,
   "id": "ee40472d-67fd-4a31-b3a8-a4a85bcb662a",
   "metadata": {},
   "outputs": [
    {
     "name": "stdout",
     "output_type": "stream",
     "text": [
      "root\n",
      " |-- IdIngresos: integer (nullable = true)\n",
      " |-- Lugar Ingreso: string (nullable = true)\n",
      " |-- IdTranspIngreso: integer (nullable = true)\n",
      " |-- Transporte Internacional de Ingreso: string (nullable = true)\n",
      " |-- FechaIngreso: date (nullable = true)\n",
      " |-- IdFecIng: integer (nullable = true)\n",
      " |-- FechaEgreso: date (nullable = true)\n",
      " |-- IdFecEgr: integer (nullable = true)\n",
      " |-- IdNacionalidad: integer (nullable = true)\n",
      " |-- Pais: string (nullable = true)\n",
      " |-- IdResidencia: integer (nullable = true)\n",
      " |-- Residencia: string (nullable = true)\n",
      " |-- IdMotivo: integer (nullable = true)\n",
      " |-- Motivo: string (nullable = true)\n",
      " |-- IdOcupacion: integer (nullable = true)\n",
      " |-- Ocupacion: string (nullable = true)\n",
      " |-- IsEstudio: integer (nullable = true)\n",
      " |-- Estudio: string (nullable = true)\n",
      " |-- IdDestinoLocalidad: integer (nullable = true)\n",
      " |-- Localidad: string (nullable = true)\n",
      " |-- IdDepartamentoDestino: integer (nullable = true)\n",
      " |-- Departamento: string (nullable = true)\n",
      " |-- IdOtroDepartamento: integer (nullable = true)\n",
      " |-- Otro Departamento: string (nullable = true)\n",
      " |-- IdOtraLocalidad: integer (nullable = true)\n",
      " |-- Otra Localidad: string (nullable = true)\n",
      " |-- IdAlojamiento: integer (nullable = true)\n",
      " |-- Alojamiento: string (nullable = true)\n",
      " |-- IdTranspLocal: integer (nullable = true)\n",
      " |-- TransporteLocal: string (nullable = true)\n",
      " |-- IdEgresos: integer (nullable = true)\n",
      " |-- Lugar Egreso: string (nullable = true)\n",
      " |-- IdTranspEgreso: integer (nullable = true)\n",
      " |-- Transporte Internacional de Egreso: string (nullable = true)\n",
      " |-- IdDestino: integer (nullable = true)\n",
      " |-- Destino: string (nullable = true)\n",
      " |-- Estadia: integer (nullable = true)\n",
      " |-- Gente: integer (nullable = true)\n",
      " |-- GastoTotal: double (nullable = true)\n",
      " |-- GastoAlojamiento: double (nullable = true)\n",
      " |-- GastoAlimentacion: double (nullable = true)\n",
      " |-- GastoTransporte: double (nullable = true)\n",
      " |-- GastoCultural: double (nullable = true)\n",
      " |-- GastoTours: double (nullable = true)\n",
      " |-- GastoCompras: double (nullable = true)\n",
      " |-- GastoOtros: double (nullable = true)\n",
      " |-- Coef: double (nullable = true)\n",
      " |-- CoefTot: double (nullable = true)\n",
      "\n"
     ]
    }
   ],
   "source": [
    "df_receptivo.printSchema()"
   ]
  },
  {
   "cell_type": "markdown",
   "id": "01ca8a4d-8090-4160-9d91-6d1f5af915f1",
   "metadata": {},
   "source": [
    "<h3>Descripción de las Columnas</h3>\n",
    "\n",
    "- Lugar Ingreso es por donde ingresó y tiene su propio ID (IdIngresos).\n",
    "- Transporte Internacional de Ingreso es el medio por el cual ingresó y tiene su propio ID (IdTranspIngreso).\n",
    "- Fecha Ingreso corresponde a la fecha de ingreso con su ID (IdFecIng).\n",
    "- Fecha Egreso corresponde a la fecha de salida con su ID (IdFecEgr).\n",
    "- Pais es la nacionalidad de quien ingresó y tiene su propio ID (IdNacionalidad).\n",
    "- Residencia (lugar de residencia del visitante) con su ID (IdResidencia).\n",
    "- Motivo de ingreso y cuenta con su propio ID (IdMotivo).\n",
    "- Ocupacion corresponde a la profesión del turista y tiene un ID (IdOcupacion).\n",
    "- Estudio es el nivel de estudios del visitante, que tiene su propio ID (IsEstudio), mas adelante le vamos a corregir el nombre de ID para que quede correcto (IdEstudio).\n",
    "- Destino Localidad es el principal destino de la visita con su ID (IdDestinoLocalidad).\n",
    "- Departamento corresponde al departamento de destino principal con su ID (IdDepartamentoDestino).\n",
    "- Otro Departamento es un posible segundo destino y tiene su ID (IdOtroDepartamento).\n",
    "- Otra Localidad corresponde a una segunda localidad visitada con su ID (IdOtraLocalidad).\n",
    "- Alojamiento es el tipo de alojamiento utilizado con su ID (IdAlojamiento).\n",
    "- Transporte Local corresponde al transporte utilizado durante la estadía y tiene un ID (IdTranspLocal).\n",
    "- Lugar Egreso es por donde se egresó y cuenta con su ID (IdEgresos).\n",
    "- Transporte Internacional de Egreso corresponde al transporte utilizado para salir del país con su ID (IdTranspEgreso).\n",
    "- Destino es la zona de destino principal con su ID (IdDestino).\n",
    "- Estadia representa los días que permaneció en el país.\n",
    "- Gente es la cantidad de personas del grupo encuestado.\n",
    "- Gasto Total, Gasto Alojamiento, Gasto Alimentacion, Gasto Transporte, Gasto Cultural, Gasto Tours, Gasto Compras y Gasto Otros corresponde a todos los tipos de gastos posibles, expresado en dólares americanos.\n",
    "- Coef es el coeficiente de expansión del gasto.\n",
    "- CoefTot es el coeficiente de expansión de las personas."
   ]
  },
  {
   "cell_type": "markdown",
   "id": "5e832655-dd55-4de1-8ea6-436f8d6f4fb1",
   "metadata": {},
   "source": [
    "<h1>Emitivo</h1>\n",
    "Contiene los datos de egreso al país"
   ]
  },
  {
   "cell_type": "code",
   "execution_count": 10,
   "id": "2456e041-0710-4626-9aa1-feffec92936c",
   "metadata": {},
   "outputs": [],
   "source": [
    "df_emisivo = spark.read.csv('../../obligatorio/lnd/emisivo', header=True, sep=',',inferSchema=True)"
   ]
  },
  {
   "cell_type": "markdown",
   "id": "d156f37f-6f32-4076-aaf9-1531d20d997d",
   "metadata": {},
   "source": [
    "Asi podemos visualizar los tipos de datos y columnas"
   ]
  },
  {
   "cell_type": "code",
   "execution_count": 11,
   "id": "9ff4a535-d08b-4cf5-9b76-238105464b6a",
   "metadata": {},
   "outputs": [
    {
     "name": "stdout",
     "output_type": "stream",
     "text": [
      "root\n",
      " |-- IdLugarSalida: integer (nullable = true)\n",
      " |-- Lugar Salida: string (nullable = true)\n",
      " |-- IdTranspSalidad: integer (nullable = true)\n",
      " |-- Transporte Internacional de Salida: string (nullable = true)\n",
      " |-- FechaSalida: date (nullable = true)\n",
      " |-- IdFecSalida: integer (nullable = true)\n",
      " |-- FechaEntrada: date (nullable = true)\n",
      " |-- IdFecEntrada: integer (nullable = true)\n",
      " |-- IdNacionalidad: integer (nullable = true)\n",
      " |-- Pais: string (nullable = true)\n",
      " |-- IdDeptoResidencia: integer (nullable = true)\n",
      " |-- Departamento: string (nullable = true)\n",
      " |-- IdMotivo: integer (nullable = true)\n",
      " |-- Motivo: string (nullable = true)\n",
      " |-- IdOcupacion: integer (nullable = true)\n",
      " |-- Ocupacion: string (nullable = true)\n",
      " |-- IdNivelEstudio: integer (nullable = true)\n",
      " |-- Estudio: string (nullable = true)\n",
      " |-- IdDestino: integer (nullable = true)\n",
      " |-- Destino: string (nullable = true)\n",
      " |-- IdAlojamiento: integer (nullable = true)\n",
      " |-- Alojamiento: string (nullable = true)\n",
      " |-- IdLugarIngreso: integer (nullable = true)\n",
      " |-- Lugar Ingreso: string (nullable = true)\n",
      " |-- IdTranspIngreso: integer (nullable = true)\n",
      " |-- Transporte Internacional de Ingreso: string (nullable = true)\n",
      " |-- IdTranspLocal: integer (nullable = true)\n",
      " |-- Trasporte Local: string (nullable = true)\n",
      " |-- Estadia: integer (nullable = true)\n",
      " |-- Gente: integer (nullable = true)\n",
      " |-- GastoTotal: double (nullable = true)\n",
      " |-- GastoAlojamiento: double (nullable = true)\n",
      " |-- GastoAlimentacion: double (nullable = true)\n",
      " |-- GastoTransporteInternac: double (nullable = true)\n",
      " |-- GatoTransporteLocal: double (nullable = true)\n",
      " |-- GastoCultural: double (nullable = true)\n",
      " |-- GastoTours: double (nullable = true)\n",
      " |-- GastoCompras: double (nullable = true)\n",
      " |-- GastoResto: double (nullable = true)\n",
      " |-- Coef: double (nullable = true)\n",
      " |-- CoefTot: double (nullable = true)\n",
      "\n"
     ]
    }
   ],
   "source": [
    "df_emisivo.printSchema()"
   ]
  },
  {
   "cell_type": "markdown",
   "id": "058e2871-75c3-4c84-b6e8-2aec704bb095",
   "metadata": {},
   "source": [
    "<h3>Descripción de las Columnas</h3>\n",
    "\n",
    "- Lugar Salida es el lugar y tiene su propio ID (IdLugarSalida).\n",
    "- Transporte Internacional de Salida es el medio de transporte internacional utilizado para la salida, con su propio ID (IdTranspSalidad).\n",
    "- Fecha Salida del viaje, con su propio ID (IdFecSalida).\n",
    "- Fecha Entrada al país, con su propio ID (IdFecEntrada).\n",
    "- Nacionalidad junto con el código que representa la nacionalidad del turista (IdNacionalidad).\n",
    "- País de destino del viaje.\n",
    "- Departamento Residencia con su propio ID (IdDeptoResidencia).\n",
    "- Motivo de ingreso al país, con su propio ID (IdMotivo).\n",
    "- Ocupación (o profesión) del turista, con su propio ID (IdOcupacion).\n",
    "- Estudio es el nivel de estudio del turista, con su propio ID (IdNivelEstudio).\n",
    "- Destino dentro del país con su propio ID (IdDestino).\n",
    "- Alojamiento es el tipo de alojamiento utilizado, con su propio ID (IdAlojamiento).\n",
    "- Lugar Ingreso es el lugar por donde se ingresó al país, con su propio ID (IdLugarIngreso).\n",
    "- Transporte Internacional de Ingreso es el medio de transporte internacional utilizado para el ingreso, con su propio ID (IdTranspIngreso).\n",
    "- Transporte Local es el medio de transporte local utilizado, con su propio ID (IdTranspLocal).\n",
    "- Estadía es la cantidad de días de estadía.\n",
    "- Gente es el número de integrantes del grupo encuestado.\n",
    "- Gasto Total, Gasto Alojamiento, Gasto Alimentación, Gasto Transporte Internacional, Gasto Transporte Local, Gasto Cultural, Gasto Tours, Gasto Compras y Gasto Resto se refieren a los distintos tipos de gastos realizados, medido en dólares americanos corrientes.\n",
    "- Coef es el Coeficiente Expansión Gasto.\n",
    "- CoefTot es el Coeficiente Expansión Personas."
   ]
  },
  {
   "cell_type": "markdown",
   "id": "f00d1ef3-d4aa-4ac7-8864-b50e2d6f96b4",
   "metadata": {},
   "source": [
    "<h1>Cruceros</h1>\n",
    "Contiene los datos de tráfico de cruceros"
   ]
  },
  {
   "cell_type": "code",
   "execution_count": 12,
   "id": "b0a78318-1ac8-446b-bb4c-da27bdb90e12",
   "metadata": {},
   "outputs": [],
   "source": [
    "df_crucero = spark.read.csv('../../obligatorio/lnd/cruceros', header=True, sep=',',inferSchema=True)"
   ]
  },
  {
   "cell_type": "markdown",
   "id": "2b6e549c-8f08-4eba-99c7-cbbbc8eaa1a5",
   "metadata": {},
   "source": [
    "Asi podemos visualizar los tipos de datos y columnas"
   ]
  },
  {
   "cell_type": "code",
   "execution_count": 13,
   "id": "c93d7869-a5d8-4cc3-96e7-9e289ad29b4a",
   "metadata": {},
   "outputs": [
    {
     "name": "stdout",
     "output_type": "stream",
     "text": [
      "root\n",
      " |-- IdCruceros: integer (nullable = true)\n",
      " |-- idNacionalidad: integer (nullable = true)\n",
      " |-- Pais: string (nullable = true)\n",
      " |-- Fecha: date (nullable = true)\n",
      " |-- idfecha: integer (nullable = true)\n",
      " |-- idPuerto: integer (nullable = true)\n",
      " |-- Puerto: string (nullable = true)\n",
      " |-- TotalPersonas: integer (nullable = true)\n",
      " |-- CantidadVisitas: integer (nullable = true)\n",
      " |-- GastoTotal: double (nullable = true)\n",
      " |-- GastoTours: double (nullable = true)\n",
      " |-- GastoAlimentacion: double (nullable = true)\n",
      " |-- GastoTransporte: double (nullable = true)\n",
      " |-- GastoShopping: double (nullable = true)\n",
      " |-- GastoOtros: double (nullable = true)\n",
      "\n"
     ]
    }
   ],
   "source": [
    "df_crucero.printSchema()"
   ]
  },
  {
   "cell_type": "markdown",
   "id": "a20a372a-869e-4a47-b3f9-d6ab2e71e488",
   "metadata": {},
   "source": [
    "<h3>Descripción de las Columnas</h3>\n",
    "\n",
    "- IdCruceros es el código identificatorio de los cruceros.\n",
    "- Pais corresponde a la nacionalidad del entrevistado y tiene su propio ID (idNacionalidad).\n",
    "- Fecha indica cuándo se realizó la encuesta y tiene un ID (idfecha).\n",
    "- Puerto es el puerto de arribo del crucerista con su ID (idPuerto).\n",
    "- Total Personas indica la cantidad de personas en cada grupo.\n",
    "- Cantidad Visitas representa el número de visitas anteriores del crucerista.\n",
    "- Gasto Total, Gasto Tours, Gasto Alimentacion, Gasto Transporte, Gasto Shopping, Gasto Otros corresponde a todos los tipos de gastos realizados y su valor en dólares americanos."
   ]
  },
  {
   "cell_type": "code",
   "execution_count": null,
   "id": "d5eed47e-7a7c-4898-ad66-74d5e457f7ea",
   "metadata": {},
   "outputs": [],
   "source": [
    "Limpieza de datos: (fehcas)"
   ]
  },
  {
   "cell_type": "code",
   "execution_count": 15,
   "id": "63091a6d-3107-48cf-8d50-40efea59425f",
   "metadata": {},
   "outputs": [
    {
     "name": "stderr",
     "output_type": "stream",
     "text": [
      "[Stage 8:>                                                          (0 + 2) / 2]\r"
     ]
    },
    {
     "name": "stdout",
     "output_type": "stream",
     "text": [
      "+------------+------------+\n",
      "|fecha_maxima|fecha_minima|\n",
      "+------------+------------+\n",
      "|  2024-09-27|  2011-12-27|\n",
      "+------------+------------+\n",
      "\n"
     ]
    },
    {
     "name": "stderr",
     "output_type": "stream",
     "text": [
      "                                                                                \r"
     ]
    }
   ],
   "source": [
    "df_receptivo.select(max(\"FechaIngreso\").alias(\"fecha_maxima\"), min(\"FechaIngreso\").alias(\"fecha_minima\")).show()"
   ]
  },
  {
   "cell_type": "code",
   "execution_count": 16,
   "id": "2f37f3f0-c23f-4db7-b1ff-f2162e527d1e",
   "metadata": {},
   "outputs": [
    {
     "name": "stdout",
     "output_type": "stream",
     "text": [
      "+------------+------------+\n",
      "|fecha_maxima|fecha_minima|\n",
      "+------------+------------+\n",
      "|  2024-09-27|  2016-12-13|\n",
      "+------------+------------+\n",
      "\n"
     ]
    }
   ],
   "source": [
    "df_emisivo.select(max(\"FechaSalida\").alias(\"fecha_maxima\"), min(\"FechaSalida\").alias(\"fecha_minima\")).show()"
   ]
  },
  {
   "cell_type": "code",
   "execution_count": 17,
   "id": "b7abd14c-5f7b-4b22-b6cc-64f0801b2f16",
   "metadata": {},
   "outputs": [
    {
     "name": "stdout",
     "output_type": "stream",
     "text": [
      "+------------+------------+\n",
      "|fecha_maxima|fecha_minima|\n",
      "+------------+------------+\n",
      "|  2024-04-29|  2016-11-28|\n",
      "+------------+------------+\n",
      "\n"
     ]
    }
   ],
   "source": [
    "df_crucero.select(max(\"Fecha\").alias(\"fecha_maxima\"), min(\"Fecha\").alias(\"fecha_minima\")).show()"
   ]
  },
  {
   "cell_type": "markdown",
   "id": "67c42e2a-01b1-426c-88cb-0eef286bc554",
   "metadata": {},
   "source": [
    "Observando esto, vamos a hacer limpieza de datos para trabajar en los mismos rangos de fecha (2016 diciembre 13 y 2024 abril 29)"
   ]
  },
  {
   "cell_type": "markdown",
   "id": "fec877bf-f0f0-4c31-be80-175fbc98b526",
   "metadata": {},
   "source": [
    "decir que probamos que por ejemplo brasil y brazil no pasaba"
   ]
  },
  {
   "cell_type": "code",
   "execution_count": null,
   "id": "93d9e9de-7cee-4d61-b659-5d5061d775e7",
   "metadata": {},
   "outputs": [],
   "source": []
  },
  {
   "cell_type": "code",
   "execution_count": null,
   "id": "609411a3-8a74-4ee6-82a0-813fb4cb64f3",
   "metadata": {},
   "outputs": [],
   "source": []
  }
 ],
 "metadata": {
  "kernelspec": {
   "display_name": "Python 3 (ipykernel)",
   "language": "python",
   "name": "python3"
  },
  "language_info": {
   "codemirror_mode": {
    "name": "ipython",
    "version": 3
   },
   "file_extension": ".py",
   "mimetype": "text/x-python",
   "name": "python",
   "nbconvert_exporter": "python",
   "pygments_lexer": "ipython3",
   "version": "3.8.8"
  }
 },
 "nbformat": 4,
 "nbformat_minor": 5
}
